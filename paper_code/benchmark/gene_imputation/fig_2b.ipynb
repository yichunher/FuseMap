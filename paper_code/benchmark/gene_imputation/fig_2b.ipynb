{
 "cells": [
  {
   "cell_type": "code",
   "execution_count": null,
   "id": "d66306ec",
   "metadata": {},
   "outputs": [],
   "source": [
    "import scanpy as sc\n",
    "import pandas as pd\n",
    "import numpy as np\n",
    "import matplotlib.pyplot as plt\n",
    "import anndata as ad\n",
    "import scanpy.external as sce\n",
    "from sklearn import preprocessing\n",
    "import pickle5 as pickle\n",
    "from tqdm import tqdm\n",
    "from sklearn.neighbors import NearestNeighbors\n",
    "from sklearn import preprocessing\n",
    "import sklearn\n",
    "\n",
    "\n",
    "from utils import *\n",
    "\n",
    "\n",
    "eps=1e-100\n"
   ]
  },
  {
   "cell_type": "code",
   "execution_count": null,
   "id": "5fb52ffa",
   "metadata": {},
   "outputs": [],
   "source": [
    "overlap_gene_list = ['ABCC9',\n",
    " 'ADRA1B',\n",
    " 'AQP4',\n",
    " 'CALCR',\n",
    " 'CASR',\n",
    " 'CHAT',\n",
    " 'CHRM2',\n",
    " 'CHRM3',\n",
    " 'CLDN5',\n",
    " 'CNR1',\n",
    " 'DGKK',\n",
    " 'DLK1',\n",
    " 'DRD1',\n",
    " 'DRD2',\n",
    " 'DRD3',\n",
    " 'DRD5',\n",
    " 'EOMES',\n",
    " 'GALR1',\n",
    " 'GFAP',\n",
    " 'GPR101',\n",
    " 'GPR139',\n",
    " 'GPR83',\n",
    " 'GPR88',\n",
    " 'GRM1',\n",
    " 'GRM3',\n",
    " 'GRPR',\n",
    " 'HCRTR2',\n",
    " 'HTR1B',\n",
    " 'HTR1D',\n",
    " 'HTR2A',\n",
    " 'IGFBPL1',\n",
    " 'KCNJ8',\n",
    " 'KIT',\n",
    " 'MAN1A',\n",
    " 'NPBWR1',\n",
    " 'NPSR1',\n",
    " 'NPY2R',\n",
    " 'OPRD1',\n",
    " 'OPRK1',\n",
    " 'OXTR',\n",
    " 'PTH2R',\n",
    " 'RET',\n",
    " 'RXFP1',\n",
    " 'RXFP3',\n",
    " 'SLC17A6',\n",
    " 'SLC17A7',\n",
    " 'SLC17A8',\n",
    " 'SLC32A1',\n",
    " 'TACR1',\n",
    " 'TACR3',\n",
    " 'TH',\n",
    " 'TRHR']"
   ]
  },
  {
   "cell_type": "code",
   "execution_count": null,
   "id": "ad0ba9f8",
   "metadata": {},
   "outputs": [],
   "source": [
    "dic_all={'gene_name':[],'method':[],'value':[]}"
   ]
  },
  {
   "cell_type": "markdown",
   "id": "7dcddb6c",
   "metadata": {},
   "source": [
    "### read FuseMap result"
   ]
  },
  {
   "cell_type": "code",
   "execution_count": null,
   "id": "069a2c3c",
   "metadata": {},
   "outputs": [],
   "source": [
    "fusemap_bm=pd.read_csv('./source_data/FuseMap/starmap_fusemap.csv',index_col=0)\n",
    "for i in overlap_gene_list:\n",
    "    dic_all['gene_name'].append(i)\n",
    "    dic_all['value'].append(fusemap_bm.loc[0,i])\n",
    "    dic_all['method'].append('fusemap_section1')\n",
    "    \n",
    "fusemap_bm=pd.read_csv('./source_data/FuseMap/vizgen_fusemap.csv',index_col=0)\n",
    "for i in overlap_gene_list:\n",
    "    dic_all['gene_name'].append(i)\n",
    "    dic_all['value'].append(fusemap_bm.loc[0,i])\n",
    "    dic_all['method'].append('fusemap_section2')\n",
    "    \n",
    "fusemap_bm=pd.read_csv('./source_data/FuseMap/merfish_fusemap.csv',index_col=0)\n",
    "for i in overlap_gene_list:\n",
    "    dic_all['gene_name'].append(i)\n",
    "    dic_all['value'].append(fusemap_bm.loc[0,i])\n",
    "    dic_all['method'].append('fusemap_section3')\n",
    "    \n",
    "fusemap_bm=pd.read_csv('./source_data/FuseMap/merscope_fusemap.csv',index_col=0)\n",
    "for i in overlap_gene_list:\n",
    "    dic_all['gene_name'].append(i)\n",
    "    dic_all['value'].append(fusemap_bm.loc[0,i])\n",
    "    dic_all['method'].append('fusemap_section4')\n",
    "    "
   ]
  },
  {
   "cell_type": "markdown",
   "id": "2f8edfb2",
   "metadata": {},
   "source": [
    "### read baseline 1 result"
   ]
  },
  {
   "cell_type": "code",
   "execution_count": null,
   "id": "58e60b3c",
   "metadata": {
    "scrolled": true
   },
   "outputs": [],
   "source": [
    "dic_harmony={}\n",
    "for gene_list_i in overlap_gene_list:\n",
    "    try:\n",
    "        harmony_bm_i = pd.read_csv(f'./source_data/baseline1/starmap_{gene_list_i}.csv',index_col=0)\n",
    "        dic_harmony[gene_list_i]=harmony_bm_i[gene_list_i][0]\n",
    "    except FileNotFoundError:\n",
    "        pass\n",
    "    \n",
    "for i in overlap_gene_list:\n",
    "    dic_all['gene_name'].append(i)\n",
    "    dic_all['value'].append(dic_harmony[i])\n",
    "    dic_all['method'].append('baseline1_section1')"
   ]
  },
  {
   "cell_type": "code",
   "execution_count": null,
   "id": "88819708",
   "metadata": {
    "scrolled": true
   },
   "outputs": [],
   "source": [
    "dic_harmony={}\n",
    "for gene_list_i in overlap_gene_list:\n",
    "    try:\n",
    "        harmony_bm_i = pd.read_csv(f'./source_data/baseline1/vizgen_{gene_list_i}.csv',index_col=0)\n",
    "        dic_harmony[gene_list_i]=harmony_bm_i[gene_list_i][0]\n",
    "    except FileNotFoundError:\n",
    "        pass\n",
    "\n",
    "for i in overlap_gene_list:\n",
    "    dic_all['gene_name'].append(i)\n",
    "    dic_all['value'].append(dic_harmony[i])\n",
    "    dic_all['method'].append('baseline1_section2')"
   ]
  },
  {
   "cell_type": "code",
   "execution_count": null,
   "id": "27a1dc65",
   "metadata": {
    "scrolled": true
   },
   "outputs": [],
   "source": [
    "dic_harmony={}\n",
    "for gene_list_i in overlap_gene_list:\n",
    "    try:\n",
    "        harmony_bm_i = pd.read_csv(f'./source_data/baseline1/merfish_{gene_list_i}.csv',index_col=0)\n",
    "        dic_harmony[gene_list_i]=harmony_bm_i[gene_list_i][0]\n",
    "    except FileNotFoundError:\n",
    "        pass\n",
    "\n",
    "for i in overlap_gene_list:\n",
    "    dic_all['gene_name'].append(i)\n",
    "    dic_all['value'].append(dic_harmony[i])\n",
    "    dic_all['method'].append('baseline1_section3')"
   ]
  },
  {
   "cell_type": "code",
   "execution_count": null,
   "id": "47c1abfc",
   "metadata": {
    "scrolled": true
   },
   "outputs": [],
   "source": [
    "dic_harmony={}\n",
    "for gene_list_i in overlap_gene_list:\n",
    "    try:\n",
    "        harmony_bm_i = pd.read_csv(f'./source_data/baseline1/merscope_{gene_list_i}.csv',index_col=0)\n",
    "        dic_harmony[gene_list_i]=harmony_bm_i[gene_list_i][0]\n",
    "    except FileNotFoundError:\n",
    "        pass\n",
    "\n",
    "for i in overlap_gene_list:\n",
    "    dic_all['gene_name'].append(i)\n",
    "    dic_all['value'].append(dic_harmony[i])\n",
    "    dic_all['method'].append('baseline1_section4')"
   ]
  },
  {
   "cell_type": "markdown",
   "id": "176fbd5d",
   "metadata": {},
   "source": [
    "### read baseline 2 result"
   ]
  },
  {
   "cell_type": "code",
   "execution_count": null,
   "id": "b699f43a",
   "metadata": {},
   "outputs": [],
   "source": [
    "pth='./source_data/baseline2/'"
   ]
  },
  {
   "cell_type": "code",
   "execution_count": null,
   "id": "065cf485",
   "metadata": {
    "scrolled": true
   },
   "outputs": [],
   "source": [
    "for i in overlap_gene_list:\n",
    "    starmap_genei=pd.read_csv(pth+f'/starmap_{i}.csv')\n",
    "    dic_all['gene_name'].append(i)\n",
    "    dic_all['value'].append(starmap_genei[i].values[0])\n",
    "    dic_all['method'].append('baseline2_section1')"
   ]
  },
  {
   "cell_type": "code",
   "execution_count": null,
   "id": "c2a2ba79",
   "metadata": {},
   "outputs": [],
   "source": [
    "for i in overlap_gene_list:\n",
    "    starmap_genei=pd.read_csv(pth+f'/vizgen_{i}.csv')\n",
    "    dic_all['gene_name'].append(i)\n",
    "    dic_all['value'].append(starmap_genei[i].values[0])\n",
    "    dic_all['method'].append('baseline2_section2')"
   ]
  },
  {
   "cell_type": "code",
   "execution_count": null,
   "id": "716e9f69",
   "metadata": {},
   "outputs": [],
   "source": [
    "for i in overlap_gene_list:\n",
    "    starmap_genei=pd.read_csv(pth+f'/merfish_{i}.csv')\n",
    "    dic_all['gene_name'].append(i)\n",
    "    dic_all['value'].append(starmap_genei[i].values[0])\n",
    "    dic_all['method'].append('baseline2_section3')"
   ]
  },
  {
   "cell_type": "code",
   "execution_count": null,
   "id": "01089ec6",
   "metadata": {},
   "outputs": [],
   "source": [
    "for i in overlap_gene_list:\n",
    "    starmap_genei=pd.read_csv(pth+f'/merscope_{i}.csv')\n",
    "    dic_all['gene_name'].append(i)\n",
    "    dic_all['value'].append(starmap_genei[i].values[0])\n",
    "    dic_all['method'].append('baseline2_section4')"
   ]
  },
  {
   "cell_type": "markdown",
   "id": "4ca955b9",
   "metadata": {},
   "source": [
    "### plot"
   ]
  },
  {
   "cell_type": "code",
   "execution_count": null,
   "id": "ed876878",
   "metadata": {},
   "outputs": [],
   "source": [
    "dic_all=pd.DataFrame(dic_all)"
   ]
  },
  {
   "cell_type": "code",
   "execution_count": null,
   "id": "d497e992",
   "metadata": {
    "scrolled": false
   },
   "outputs": [],
   "source": [
    "import seaborn as sns\n",
    "\n",
    "for ind,key in enumerate(['section1','section2','section3','section4']):\n",
    "    \n",
    "    sub_dic_all=dic_all.loc[dic_all['method'].isin([f'fusemap_{key}',f'baseline1_{key}',f'baseline2_{key}', ])]\n",
    "    plt.figure(figsize=(2,5))\n",
    "    sns.barplot(data=sub_dic_all,x='method',y='value',\n",
    "                order=[f'fusemap_{key}',f'baseline1_{key}',f'baseline2_{key}',\n",
    "                      ]\n",
    "               )\n",
    "    plt.xticks(rotation=90)\n"
   ]
  },
  {
   "cell_type": "code",
   "execution_count": null,
   "id": "0ed98b0b",
   "metadata": {},
   "outputs": [],
   "source": []
  },
  {
   "cell_type": "code",
   "execution_count": null,
   "id": "31d3094b",
   "metadata": {},
   "outputs": [],
   "source": []
  }
 ],
 "metadata": {
  "kernelspec": {
   "display_name": "Python 3 (ipykernel)",
   "language": "python",
   "name": "python3"
  },
  "language_info": {
   "codemirror_mode": {
    "name": "ipython",
    "version": 3
   },
   "file_extension": ".py",
   "mimetype": "text/x-python",
   "name": "python",
   "nbconvert_exporter": "python",
   "pygments_lexer": "ipython3",
   "version": "3.7.13"
  }
 },
 "nbformat": 4,
 "nbformat_minor": 5
}
