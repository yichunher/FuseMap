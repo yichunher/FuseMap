{
 "cells": [
  {
   "cell_type": "code",
   "execution_count": null,
   "id": "d66306ec",
   "metadata": {},
   "outputs": [],
   "source": [
    "import scanpy as sc\n",
    "import pandas as pd\n",
    "import numpy as np\n",
    "import matplotlib.pyplot as plt\n",
    "import anndata as ad\n",
    "import scanpy.external as sce\n",
    "from sklearn import preprocessing\n",
    "import pickle5 as pickle\n",
    "from tqdm import tqdm\n",
    "from sklearn.neighbors import NearestNeighbors\n",
    "from sklearn import preprocessing\n",
    "import sklearn\n",
    "\n",
    "from utils import *\n",
    "\n",
    "\n",
    "eps=1e-100\n"
   ]
  },
  {
   "cell_type": "code",
   "execution_count": null,
   "id": "5fb52ffa",
   "metadata": {},
   "outputs": [],
   "source": [
    "gene_list = ['ABCC9',\n",
    " 'ADRA1B',\n",
    " 'AQP4',\n",
    " 'CALCR',\n",
    " 'CASR',\n",
    " 'CHAT',\n",
    " 'CHRM2',\n",
    " 'CHRM3',\n",
    " 'CLDN5',\n",
    " 'CNR1',\n",
    " 'DGKK',\n",
    " 'DLK1',\n",
    " 'DRD1',\n",
    " 'DRD2',\n",
    " 'DRD3',\n",
    " 'DRD5',\n",
    " 'EOMES',\n",
    " 'GALR1',\n",
    " 'GFAP',\n",
    " 'GPR101',\n",
    " 'GPR139',\n",
    " 'GPR83',\n",
    " 'GPR88',\n",
    " 'GRM1',\n",
    " 'GRM3',\n",
    " 'GRPR',\n",
    " 'HCRTR2',\n",
    " 'HTR1B',\n",
    " 'HTR1D',\n",
    " 'HTR2A',\n",
    " 'IGFBPL1',\n",
    " 'KCNJ8',\n",
    " 'KIT',\n",
    " 'MAN1A',\n",
    " 'NPBWR1',\n",
    " 'NPSR1',\n",
    " 'NPY2R',\n",
    " 'OPRD1',\n",
    " 'OPRK1',\n",
    " 'OXTR',\n",
    " 'PTH2R',\n",
    " 'RET',\n",
    " 'RXFP1',\n",
    " 'RXFP3',\n",
    " 'SLC17A6',\n",
    " 'SLC17A7',\n",
    " 'SLC17A8',\n",
    " 'SLC32A1',\n",
    " 'TACR1',\n",
    " 'TACR3',\n",
    " 'TH',\n",
    " 'TRHR']"
   ]
  },
  {
   "cell_type": "code",
   "execution_count": null,
   "id": "ad0ba9f8",
   "metadata": {},
   "outputs": [],
   "source": [
    "dic_all={'gene_name':[],'method':[],'value':[]}"
   ]
  },
  {
   "cell_type": "code",
   "execution_count": null,
   "id": "6a8430d8",
   "metadata": {},
   "outputs": [],
   "source": [
    "fusemap_bm=pd.read_csv('source_data/FuseMap/starmap_fusemap.csv',index_col=0)\n",
    "for i in gene_list:\n",
    "    dic_all['gene_name'].append(i)\n",
    "    dic_all['value'].append(fusemap_bm.loc[0,i])\n",
    "    dic_all['method'].append('fusemap_section1')"
   ]
  },
  {
   "cell_type": "code",
   "execution_count": null,
   "id": "d41a2e16",
   "metadata": {},
   "outputs": [],
   "source": [
    "fusemap_bm=pd.read_csv('source_data/FuseMap_noSpatialEmbed/nospatial_starmap_fusemap.csv',index_col=0)\n",
    "for i in gene_list:\n",
    "    dic_all['gene_name'].append(i)\n",
    "    dic_all['value'].append(fusemap_bm.loc[0,i])\n",
    "    dic_all['method'].append('nospatial_fusemap_section1')\n",
    "    "
   ]
  },
  {
   "cell_type": "code",
   "execution_count": null,
   "id": "069a2c3c",
   "metadata": {},
   "outputs": [],
   "source": [
    "fusemap_bm=pd.read_csv('source_data/FuseMap/vizgen_fusemap.csv',index_col=0)\n",
    "for i in gene_list:\n",
    "    dic_all['gene_name'].append(i)\n",
    "    dic_all['value'].append(fusemap_bm.loc[0,i])\n",
    "    dic_all['method'].append('fusemap_section2')\n",
    "    "
   ]
  },
  {
   "cell_type": "code",
   "execution_count": null,
   "id": "52dcedaf",
   "metadata": {},
   "outputs": [],
   "source": [
    "fusemap_bm=pd.read_csv('source_data/FuseMap_noSpatialEmbed/nospatial_vizgen_fusemap.csv',index_col=0)\n",
    "for i in gene_list:\n",
    "    dic_all['gene_name'].append(i)\n",
    "    dic_all['value'].append(fusemap_bm.loc[0,i])\n",
    "    dic_all['method'].append('nospatial_fusemap_section2')\n",
    "    "
   ]
  },
  {
   "cell_type": "code",
   "execution_count": null,
   "id": "cec535e5",
   "metadata": {},
   "outputs": [],
   "source": [
    "fusemap_bm=pd.read_csv('source_data/FuseMap_noSpatialEmbed/nospatial_merfish_fusemap.csv',index_col=0)\n",
    "for i in gene_list:\n",
    "    dic_all['gene_name'].append(i)\n",
    "    dic_all['value'].append(fusemap_bm.loc[0,i])\n",
    "    dic_all['method'].append('nospatial_fusemap_section3')\n",
    "    "
   ]
  },
  {
   "cell_type": "code",
   "execution_count": null,
   "id": "0d939f46",
   "metadata": {},
   "outputs": [],
   "source": [
    "fusemap_bm=pd.read_csv('source_data/FuseMap/merfish_fusemap.csv',index_col=0)\n",
    "for i in gene_list:\n",
    "    dic_all['gene_name'].append(i)\n",
    "    dic_all['value'].append(fusemap_bm.loc[0,i])\n",
    "    dic_all['method'].append('fusemap_section3')\n",
    "    "
   ]
  },
  {
   "cell_type": "code",
   "execution_count": null,
   "id": "c94a2ccc",
   "metadata": {
    "scrolled": true
   },
   "outputs": [],
   "source": [
    "fusemap_bm=pd.read_csv('source_data/FuseMap/merscope_fusemap.csv',index_col=0)\n",
    "for i in gene_list:\n",
    "    dic_all['gene_name'].append(i)\n",
    "    dic_all['value'].append(fusemap_bm.loc[0,i])\n",
    "    dic_all['method'].append('fusemap_section4')\n",
    "    "
   ]
  },
  {
   "cell_type": "code",
   "execution_count": null,
   "id": "46a18192",
   "metadata": {},
   "outputs": [],
   "source": [
    "fusemap_bm=pd.read_csv('source_data/FuseMap_noSpatialEmbed/nospatial_merscope_fusemap.csv',index_col=0)\n",
    "for i in gene_list:\n",
    "    dic_all['gene_name'].append(i)\n",
    "    dic_all['value'].append(fusemap_bm.loc[0,i])\n",
    "    dic_all['method'].append('nospatial_fusemap_section4')\n",
    "    "
   ]
  },
  {
   "cell_type": "code",
   "execution_count": null,
   "id": "ed876878",
   "metadata": {},
   "outputs": [],
   "source": [
    "dic_all=pd.DataFrame(dic_all)"
   ]
  },
  {
   "cell_type": "code",
   "execution_count": null,
   "id": "f4e9e67c",
   "metadata": {
    "scrolled": false
   },
   "outputs": [],
   "source": [
    "import seaborn as sns\n",
    "for ind,key in enumerate(['section1','section2','section3','section4']):\n",
    "    \n",
    "    sub_dic_all=dic_all.loc[dic_all['method'].isin([f'fusemap_{key}',f'nospatial_fusemap_{key}'])]\n",
    "    plt.figure(figsize=(1.2,4))\n",
    "    sns.barplot(data=sub_dic_all,x='method',y='value',\n",
    "                order=[f'fusemap_{key}',f'nospatial_fusemap_{key}',\n",
    "                      ],palette='tab20',\n",
    "               )\n",
    "    plt.xticks(rotation=90)"
   ]
  },
  {
   "cell_type": "code",
   "execution_count": null,
   "id": "454d2606",
   "metadata": {},
   "outputs": [],
   "source": []
  },
  {
   "cell_type": "code",
   "execution_count": null,
   "id": "0ed98b0b",
   "metadata": {},
   "outputs": [],
   "source": []
  },
  {
   "cell_type": "code",
   "execution_count": null,
   "id": "31d3094b",
   "metadata": {},
   "outputs": [],
   "source": []
  }
 ],
 "metadata": {
  "kernelspec": {
   "display_name": "Python 3 (ipykernel)",
   "language": "python",
   "name": "python3"
  },
  "language_info": {
   "codemirror_mode": {
    "name": "ipython",
    "version": 3
   },
   "file_extension": ".py",
   "mimetype": "text/x-python",
   "name": "python",
   "nbconvert_exporter": "python",
   "pygments_lexer": "ipython3",
   "version": "3.7.13"
  }
 },
 "nbformat": 4,
 "nbformat_minor": 5
}
