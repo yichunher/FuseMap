{
 "cells": [
  {
   "cell_type": "code",
   "execution_count": null,
   "id": "7d45548f",
   "metadata": {},
   "outputs": [],
   "source": [
    "import scanpy as sc\n",
    "import pandas as pd\n",
    "import numpy as np\n",
    "import matplotlib.pyplot as plt\n",
    "import anndata as ad\n",
    "import scanpy.external as sce\n",
    "from sklearn import preprocessing\n",
    "import pickle5 as pickle\n",
    "from tqdm import tqdm\n",
    "from sklearn.neighbors import NearestNeighbors\n",
    "from sklearn import preprocessing\n",
    "import sklearn\n",
    "\n",
    "eps=1e-100\n",
    "import seaborn as sns\n"
   ]
  },
  {
   "cell_type": "markdown",
   "id": "0ea85a10",
   "metadata": {},
   "source": [
    "### concat four sections"
   ]
  },
  {
   "cell_type": "code",
   "execution_count": null,
   "id": "e7b86c00",
   "metadata": {},
   "outputs": [],
   "source": [
    "X1 = sc.read_h5ad('./source_data/single_cell_embedding/section1.h5ad')\n",
    "X2 = sc.read_h5ad('./source_data/single_cell_embedding/section4.h5ad')\n",
    "X3 = sc.read_h5ad('./source_data/single_cell_embedding/section3.h5ad')\n",
    "X4 = sc.read_h5ad('./source_data/single_cell_embedding/section2.h5ad')"
   ]
  },
  {
   "cell_type": "code",
   "execution_count": null,
   "id": "09e4683e",
   "metadata": {},
   "outputs": [],
   "source": [
    "X1,X2,X3,X4"
   ]
  },
  {
   "cell_type": "code",
   "execution_count": null,
   "id": "ceb5b414",
   "metadata": {},
   "outputs": [],
   "source": [
    "ad_concat = ad.concat([X1,X2,X3,X4],label='domain')"
   ]
  },
  {
   "cell_type": "markdown",
   "id": "0d8121fd",
   "metadata": {},
   "source": [
    "### plot UMAP of integrated embeddings"
   ]
  },
  {
   "cell_type": "code",
   "execution_count": null,
   "id": "8d39ab62",
   "metadata": {
    "scrolled": true
   },
   "outputs": [],
   "source": [
    "for method_name in ['FuseMap_celltype','harmony','scanorama','scvi','seurat','SIMBA_sc','MultiVI','SIMBA_mc','stabmap','Mario']:\n",
    "    ad_merged=sc.read_h5ad(f'source_data/single_cell_embedding/adata_{method_name}.h5ad')\n",
    "    if ad_concat.shape[0]==ad_merged.shape[0]:\n",
    "        plt_ad = ad_concat\n",
    "    else:\n",
    "        plt_ad = ad_concat[ad_merged.obs.index,:]\n",
    "        \n",
    "    plt_ad.obsm['X_umap']=ad_merged.obsm['X_umap']\n",
    "\n",
    "\n",
    "        \n",
    "    fig, ax = plt.subplots(figsize=(3,3))\n",
    "    sc.pl.umap(plt_ad,color='domain',ax=ax,title=f'{method_name} sampleID')\n",
    "\n",
    "    fig, ax = plt.subplots(figsize=(6,6))\n",
    "    sc.pl.umap(plt_ad,color='gtTaxonomyRank4',ax=ax,title=f'{method_name} unified cell type label')\n",
    "    "
   ]
  },
  {
   "cell_type": "markdown",
   "id": "aeacf895",
   "metadata": {},
   "source": [
    "### definition of metric functions"
   ]
  },
  {
   "cell_type": "code",
   "execution_count": null,
   "id": "fc686276",
   "metadata": {},
   "outputs": [],
   "source": [
    "import sys\n",
    "sys.path.insert(0,'./')\n",
    "from utils import *\n"
   ]
  },
  {
   "cell_type": "markdown",
   "id": "b318ada1",
   "metadata": {},
   "source": [
    "bio conservation"
   ]
  },
  {
   "cell_type": "markdown",
   "id": "dabee018",
   "metadata": {},
   "source": [
    "### metric 1"
   ]
  },
  {
   "cell_type": "code",
   "execution_count": null,
   "id": "71d668ca",
   "metadata": {},
   "outputs": [],
   "source": [
    "SAMPLE_cell=100000\n",
    "random_seed_list=[0,1,2,3,4,5,6,7,8,9]\n",
    "method_name = ['FuseMap_celltype','harmony','scanorama','scvi','seurat','SIMBA_sc','MultiVI','SIMBA_mc','stabmap','Mario']\n"
   ]
  },
  {
   "cell_type": "code",
   "execution_count": null,
   "id": "1e91428d",
   "metadata": {
    "scrolled": true
   },
   "outputs": [],
   "source": [
    "for random_seed in random_seed_list:\n",
    "    for key in method_name:\n",
    "        print(f'-------key: {key} --------------')\n",
    "\n",
    "        adata=sc.read_h5ad(f'source_data/single_cell_embedding/adata_{key}.h5ad')\n",
    "                \n",
    "        np.random.seed(random_seed)\n",
    "        adata = adata[np.random.permutation(adata.shape[0])[:SAMPLE_cell],:]\n",
    "        map_sample_value = map_sample(adata, )\n",
    "\n",
    "        save_obj(map_sample_value, f'source_data/single_cell_embedding/metrics_value/MAP_{key}_{random_seed}')\n"
   ]
  },
  {
   "cell_type": "markdown",
   "id": "b6b1ee7f",
   "metadata": {},
   "source": [
    "### metric 2"
   ]
  },
  {
   "cell_type": "code",
   "execution_count": null,
   "id": "d5c60baf",
   "metadata": {
    "scrolled": true
   },
   "outputs": [],
   "source": [
    "for random_seed in random_seed_list:\n",
    "    for key in method_name:\n",
    "        print(f'-------key: {key} --------------')\n",
    "\n",
    "        adata=sc.read_h5ad(f'source_data/single_cell_embedding/adata_{key}.h5ad')\n",
    "        \n",
    "        np.random.seed(random_seed)\n",
    "        adata = adata[np.random.permutation(adata.shape[0])[:SAMPLE_cell],:]\n",
    "        map_sample_value = ave_sw_sample_all(adata, )\n",
    "\n",
    "        save_obj(map_sample_value, f'source_data/single_cell_embedding/metrics_value/ASW_{key}_{random_seed}')\n"
   ]
  },
  {
   "cell_type": "markdown",
   "id": "1dc574f1",
   "metadata": {},
   "source": [
    "### metric 3"
   ]
  },
  {
   "cell_type": "code",
   "execution_count": null,
   "id": "43009425",
   "metadata": {
    "scrolled": true
   },
   "outputs": [],
   "source": [
    "for random_seed in random_seed_list:\n",
    "    for key in method_name:\n",
    "        print(f'-------key: {key} --------------')\n",
    "\n",
    "        adata=sc.read_h5ad(f'source_data/single_cell_embedding/adata_{key}.h5ad')\n",
    "        \n",
    "        np.random.seed(random_seed)\n",
    "        adata = adata[np.random.permutation(adata.shape[0])[:SAMPLE_cell],:]\n",
    "        map_sample_value = nc_sample_all(adata, )\n",
    "\n",
    "        save_obj(map_sample_value, f'source_data/single_cell_embedding/metrics_value/NC_{key}_{random_seed}')"
   ]
  },
  {
   "cell_type": "markdown",
   "id": "c9e852e5",
   "metadata": {},
   "source": [
    "batch effect"
   ]
  },
  {
   "cell_type": "markdown",
   "id": "c04b4388",
   "metadata": {},
   "source": [
    "### metric 1"
   ]
  },
  {
   "cell_type": "code",
   "execution_count": null,
   "id": "8552d122",
   "metadata": {
    "scrolled": true
   },
   "outputs": [],
   "source": [
    "for random_seed in random_seed_list:\n",
    "    for key in method_name:\n",
    "        print(f'-------key: {key} --------------')\n",
    "\n",
    "        adata=sc.read_h5ad(f'source_data/single_cell_embedding/adata_{key}.h5ad')\n",
    "\n",
    "        np.random.seed(random_seed)\n",
    "        adata = adata[np.random.permutation(adata.shape[0])[:SAMPLE_cell],:]\n",
    "        map_sample_value = batch_entropy_sample_all(adata, )\n",
    "\n",
    "        save_obj(map_sample_value, f'source_data/single_cell_embedding/metrics_value/BE_{key}_{random_seed}')"
   ]
  },
  {
   "cell_type": "markdown",
   "id": "59172e1e",
   "metadata": {},
   "source": [
    "### metric 2"
   ]
  },
  {
   "cell_type": "code",
   "execution_count": null,
   "id": "fb515dca",
   "metadata": {
    "scrolled": true
   },
   "outputs": [],
   "source": [
    "for random_seed in random_seed_list:\n",
    "    for key in method_name:\n",
    "        print(f'-------key: {key} --------------')\n",
    "\n",
    "        adata=sc.read_h5ad(f'source_data/single_cell_embedding/adata_{key}.h5ad')\n",
    "\n",
    "        np.random.seed(random_seed)\n",
    "        adata = adata[np.random.permutation(adata.shape[0])[:SAMPLE_cell],:]\n",
    "        map_sample_value = sas_sample_all(adata, random_seed=random_seed)\n",
    "\n",
    "        save_obj(map_sample_value, f'source_data/single_cell_embedding/metrics_value/SAS_{key}_{random_seed}')\n"
   ]
  },
  {
   "cell_type": "markdown",
   "id": "9f6c7e21",
   "metadata": {},
   "source": [
    "### metric 3"
   ]
  },
  {
   "cell_type": "code",
   "execution_count": null,
   "id": "4f07f66f",
   "metadata": {
    "scrolled": true
   },
   "outputs": [],
   "source": [
    "for random_seed in random_seed_list:\n",
    "    for key in method_name:\n",
    "        print(f'-------key: {key} --------------')\n",
    "\n",
    "        adata=sc.read_h5ad(f'source_data/single_cell_embedding/adata_{key}.h5ad')\n",
    "\n",
    "        np.random.seed(random_seed)\n",
    "        adata = adata[np.random.permutation(adata.shape[0])[:SAMPLE_cell],:]\n",
    "        map_sample_value = aswb_sample_all(adata)\n",
    "\n",
    "        save_obj(map_sample_value, f'source_data/single_cell_embedding/metrics_value/ASWB_{key}_{random_seed}')"
   ]
  },
  {
   "cell_type": "markdown",
   "id": "8b6d0b05",
   "metadata": {},
   "source": [
    "### metric 4"
   ]
  },
  {
   "cell_type": "code",
   "execution_count": null,
   "id": "31e97a01",
   "metadata": {
    "scrolled": true
   },
   "outputs": [],
   "source": [
    "for random_seed in random_seed_list:\n",
    "    for key in method_name:\n",
    "        print(f'-------key: {key} --------------')\n",
    "\n",
    "        adata=sc.read_h5ad(f'source_data/single_cell_embedding/adata_{key}.h5ad')\n",
    "\n",
    "        np.random.seed(random_seed)\n",
    "        adata = adata[np.random.permutation(adata.shape[0])[:SAMPLE_cell],:]\n",
    "        map_sample_value = gc_sample_all(adata)\n",
    "\n",
    "        save_obj(map_sample_value, f'source_data/single_cell_embedding/metrics_value/GC_{key}_{random_seed}')"
   ]
  },
  {
   "cell_type": "markdown",
   "id": "a1c627f1",
   "metadata": {},
   "source": [
    "# summarize and plot figures"
   ]
  },
  {
   "cell_type": "markdown",
   "id": "d9f32522",
   "metadata": {},
   "source": [
    "need to decompress source_data/single_cell_embedding/metrics_value/data.zip"
   ]
  },
  {
   "cell_type": "code",
   "execution_count": null,
   "id": "5cd77f58",
   "metadata": {},
   "outputs": [],
   "source": [
    "from sklearn.preprocessing import MinMaxScaler\n",
    "\n",
    "value_all_dict={}\n",
    "value_all_dict['metric']=[]\n",
    "value_all_dict['method']=[]\n",
    "value_all_dict['value']=[]\n",
    "value_all_dict['seed']=[]\n",
    "method_name = ['FuseMap','Harmony','scVI','SeuratV3','StabMap','Scanorama','SIMBA_sc','MultiVI','SIMBA_mc','Mario']\n",
    "\n",
    "for random_seed in [0,1,2,3,4,5,6,7,8,9]:\n",
    "\n",
    "    for metric_key in ['MAP','ASW','NC','BE','SAS','ASWB','GC']:\n",
    "        list_all=[]\n",
    "        for key in method_name:\n",
    "\n",
    "            with (open(f'source_data/single_cell_embedding/metrics_value/data/{metric_key}_{key}_{random_seed}.pkl', \"rb\")) as openfile:\n",
    "                value = pickle.load(openfile)\n",
    "            list_all.append(np.mean(value))\n",
    "\n",
    "        list_all=np.array(list_all).reshape(-1, 1)\n",
    "        scaler = MinMaxScaler()\n",
    "        scaler.fit(list_all)\n",
    "        for i,j in zip(np.array(list_all).flatten(),method_name):\n",
    "            value_all_dict['metric'].append(metric_key)\n",
    "            value_all_dict['method'].append(j)\n",
    "            value_all_dict['value'].append(i)\n",
    "            value_all_dict['seed'].append(random_seed)\n",
    "value_all_dict = pd.DataFrame(value_all_dict)\n"
   ]
  },
  {
   "cell_type": "code",
   "execution_count": null,
   "id": "b1117069",
   "metadata": {},
   "outputs": [],
   "source": [
    "def plot_barplot(value_all_dict,key):\n",
    "    df_new = value_all_dict.loc[value_all_dict['metric']==key,:]\n",
    "\n",
    "\n",
    "    LINEWIDTH_ALL =0.5\n",
    "\n",
    "    sns.set(rc={'figure.facecolor':(0,0,0,0)})\n",
    "\n",
    "\n",
    "    PROPS = {\n",
    "        'boxprops':{'edgecolor':'black'},\n",
    "        'medianprops':{'color':'black'},\n",
    "        'whiskerprops':{'color':'black'},\n",
    "        'capprops':{'color':'black'}\n",
    "    }\n",
    "\n",
    "\n",
    "    fig = plt.figure(figsize=(4.5,4), dpi= 300)\n",
    "    sns.set_style('ticks')\n",
    "    g=sns.stripplot(x=df_new['method'], y=df_new['value'],palette='Paired',\n",
    "                    linewidth=LINEWIDTH_ALL,size=3,edgecolor='k')\n",
    "\n",
    "    g=sns.barplot(data=df_new, x=\"method\", y=\"value\",palette='Paired')\n",
    "\n",
    "    adjust_box_widths(fig, 1.5)\n",
    "\n",
    "    plt.ylim([-0.03,1]) # <--- set the ticks first\n",
    "    plt.yticks(fontsize=5)\n",
    "    plt.xticks(fontsize=5)\n",
    "\n",
    "    for axis in ['top', 'bottom', 'left', 'right']:\n",
    "        g.spines[axis].set_linewidth(LINEWIDTH_ALL)  # change width\n",
    "\n",
    "    g.xaxis.set_tick_params(width=LINEWIDTH_ALL,direction='inout')\n",
    "    g.yaxis.set_tick_params(width=LINEWIDTH_ALL,direction='inout')\n",
    "    plt.legend([],[], frameon=False)\n",
    "    plt.title(key)\n",
    "    plt.show()"
   ]
  },
  {
   "cell_type": "code",
   "execution_count": null,
   "id": "d243e05a",
   "metadata": {
    "scrolled": false
   },
   "outputs": [],
   "source": [
    "for metric_key in ['MAP','ASW','NC','BE','SAS','ASWB','GC']:\n",
    "    plot_barplot(value_all_dict,metric_key)"
   ]
  },
  {
   "cell_type": "code",
   "execution_count": null,
   "id": "7cd48b04",
   "metadata": {},
   "outputs": [],
   "source": []
  }
 ],
 "metadata": {
  "kernelspec": {
   "display_name": "Python 3 (ipykernel)",
   "language": "python",
   "name": "python3"
  },
  "language_info": {
   "codemirror_mode": {
    "name": "ipython",
    "version": 3
   },
   "file_extension": ".py",
   "mimetype": "text/x-python",
   "name": "python",
   "nbconvert_exporter": "python",
   "pygments_lexer": "ipython3",
   "version": "3.7.13"
  }
 },
 "nbformat": 4,
 "nbformat_minor": 5
}
