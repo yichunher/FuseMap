{
 "cells": [
  {
   "cell_type": "code",
   "execution_count": null,
   "id": "d3446042",
   "metadata": {},
   "outputs": [],
   "source": [
    "import os\n",
    "import json\n",
    "\n",
    "import numpy as np\n",
    "import pandas as pd\n",
    "import scipy.stats\n",
    "import matplotlib.pyplot as plt\n",
    "\n",
    "import scanpy as sc\n",
    "\n",
    "import statsmodels.stats.multitest"
   ]
  },
  {
   "cell_type": "code",
   "execution_count": null,
   "id": "bc8dd911",
   "metadata": {},
   "outputs": [],
   "source": [
    "def get_confusion_count_df(df, col1, col2):\n",
    "    '''Get the confusion matrix between two categorical columns in a dataframe.'''\n",
    "    assert((col1 != 'count') and (col2 != 'count'))\n",
    "    count_df = df[[col1, col2]].copy()\n",
    "    count_df['count'] = 1\n",
    "    \n",
    "    conf_df = pd.pivot_table(count_df, index=[col1], columns=[col2], \n",
    "                              values='count', aggfunc=np.sum).fillna(0)\n",
    "    \n",
    "    return conf_df\n",
    "        \n",
    "def get_expected_count_df(conf_df):\n",
    "    mtx = conf_df.values\n",
    "    \n",
    "    total_count = np.sum(mtx)\n",
    "    row_fractions = np.sum(mtx, axis=1) / total_count\n",
    "    col_fractions = np.sum(mtx, axis=0) / total_count\n",
    "    \n",
    "    expect_fractions = row_fractions[:, np.newaxis] * col_fractions[np.newaxis, :]\n",
    "    expected_count_df = pd.DataFrame(data=expect_fractions * total_count, \n",
    "                                     index=conf_df.index, columns=conf_df.columns)\n",
    "    \n",
    "    return expected_count_df"
   ]
  },
  {
   "cell_type": "code",
   "execution_count": null,
   "id": "502fe6f1",
   "metadata": {},
   "outputs": [],
   "source": [
    "for focus_key in ['Atlas1','Atlas2','Atlas3']:\n",
    "    df_ct_labels=pd.read_csv(f'./source_data/df_ct_labels_{focus_key}.csv',index_col=0)\n",
    "    output_path = f'source_data/cells_by_regions_{focus_key}'\n",
    "    os.makedirs(output_path, exist_ok=True)\n",
    "    \n",
    "    # Get the confusion matrix data frame\n",
    "    conf_df = get_confusion_count_df(df_ct_labels, 'transfer_gt_cell_type_sub_STARmap', 'transfer_gt_tissue_region_main_STARmap')\n",
    "\n",
    "    # Calculate the enrichment matrix data frame\n",
    "    expected_count_df = get_expected_count_df(conf_df)\n",
    "    region_enrichment_df = conf_df / expected_count_df.values\n",
    "\n",
    "    major_brain_regions = list(df_ct_labels['transfer_gt_tissue_region_main_STARmap'].unique())\n",
    "\n",
    "    for r in major_brain_regions:\n",
    "        print(r)\n",
    "\n",
    "        region_df_ct_labels = df_ct_labels[df_ct_labels['transfer_gt_tissue_region_main_STARmap'] == r]\n",
    "\n",
    "        subclasses, counts = np.unique(region_df_ct_labels['transfer_gt_cell_type_sub_STARmap'], return_counts=True)\n",
    "        selected_subclasses = []\n",
    "\n",
    "\n",
    "\n",
    "        for i in np.argsort(-counts):\n",
    "\n",
    "            selected = False\n",
    "            neuron_cattegory_label=df_ct_labels.loc[df_ct_labels['transfer_gt_cell_type_sub_STARmap']==subclasses[i],'neuron_category'].unique()[0]\n",
    "\n",
    "            # For non-neuronal, non-astrocytes\n",
    "            if neuron_cattegory_label=='non' and (not subclasses[i].startswith('AC')):       \n",
    "                if counts[i] > 50:\n",
    "                    selected = True\n",
    "                    selected_subclasses.append(subclasses[i])\n",
    "\n",
    "            # For astrocytes\n",
    "            elif subclasses[i].startswith('AC'):\n",
    "                if region_enrichment_df.loc[subclasses[i], r] > 1:\n",
    "                    selected = True\n",
    "                    selected_subclasses.append(subclasses[i])\n",
    "\n",
    "            # For neurons\n",
    "            else:\n",
    "                threshold = 6\n",
    "\n",
    "                if region_enrichment_df.loc[subclasses[i], r] > threshold:\n",
    "                    selected = True\n",
    "                    selected_subclasses.append(subclasses[i])\n",
    "\n",
    "\n",
    "        region_df_ct_labels = region_df_ct_labels[region_df_ct_labels['transfer_gt_cell_type_sub_STARmap'].isin(\n",
    "                                    selected_subclasses)].copy()\n",
    "        region_df_ct_labels.to_csv(os.path.join(output_path, f'{r}.csv'))\n"
   ]
  },
  {
   "cell_type": "code",
   "execution_count": null,
   "id": "1956b068",
   "metadata": {},
   "outputs": [],
   "source": []
  },
  {
   "cell_type": "code",
   "execution_count": null,
   "id": "0a3b58ff",
   "metadata": {},
   "outputs": [],
   "source": []
  },
  {
   "cell_type": "code",
   "execution_count": null,
   "id": "8139fec0",
   "metadata": {},
   "outputs": [],
   "source": []
  },
  {
   "cell_type": "code",
   "execution_count": null,
   "id": "289675d0",
   "metadata": {
    "scrolled": true
   },
   "outputs": [],
   "source": []
  }
 ],
 "metadata": {
  "kernelspec": {
   "display_name": "Python 3 (ipykernel)",
   "language": "python",
   "name": "python3"
  },
  "language_info": {
   "codemirror_mode": {
    "name": "ipython",
    "version": 3
   },
   "file_extension": ".py",
   "mimetype": "text/x-python",
   "name": "python",
   "nbconvert_exporter": "python",
   "pygments_lexer": "ipython3",
   "version": "3.7.13"
  }
 },
 "nbformat": 4,
 "nbformat_minor": 5
}
