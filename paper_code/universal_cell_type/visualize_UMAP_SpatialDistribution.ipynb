{
 "cells": [
  {
   "cell_type": "code",
   "execution_count": null,
   "id": "df38eceb",
   "metadata": {},
   "outputs": [],
   "source": [
    "import scanpy as sc\n",
    "import pandas as pd\n",
    "import numpy as np\n",
    "import matplotlib.pyplot as plt\n",
    "import anndata as ad\n",
    "import scanpy.external as sce\n",
    "from sklearn import preprocessing\n",
    "import pickle5 as pickle\n",
    "from tqdm import tqdm\n",
    "from sklearn.neighbors import NearestNeighbors\n",
    "from sklearn import preprocessing\n",
    "import sklearn\n",
    "from sklearn.metrics import accuracy_score\n",
    "\n",
    "from utils import *\n",
    "\n",
    "import seaborn as sns\n",
    "import matplotlib.pyplot as plt\n",
    "\n",
    "eps=1e-100\n"
   ]
  },
  {
   "cell_type": "code",
   "execution_count": null,
   "id": "ff422137",
   "metadata": {},
   "outputs": [],
   "source": [
    "ad_embed_all_celltype = sc.read_h5ad('source_data/ad_embed.h5ad')"
   ]
  },
  {
   "cell_type": "code",
   "execution_count": null,
   "id": "bac22adc",
   "metadata": {},
   "outputs": [],
   "source": [
    "### subsample one million cells\n",
    "np.random.seed(40)\n",
    "celltype=ad_embed_all_celltype[np.random.permutation(ad_embed_all_celltype.shape[0])[:1000000]]"
   ]
  },
  {
   "cell_type": "code",
   "execution_count": null,
   "id": "e7feee5a",
   "metadata": {
    "scrolled": false
   },
   "outputs": [],
   "source": [
    "np.random.seed(40)\n",
    "\n",
    "color_palette=np.random.rand(celltype.obs['batch'].unique().shape[0],3)\n",
    "color_dic = {}\n",
    "for ind,i in enumerate(celltype.obs['batch'].unique()):\n",
    "    color_dic[i]=color_palette[ind]\n",
    "    \n",
    "fig,ax = plt.subplots(figsize=(7,7))\n",
    "ax = sc.pl.umap(celltype,color='batch',size=0.5,legend_loc=[],\n",
    "                ax=ax,show=False,palette=color_dic)\n",
    "plt.axis('off')\n",
    "plt.title('UMAP of single-cell Embedding colored by section IDs')\n",
    "# plt.savefig('figures_umap/celltype_batch_real.png',dpi=300,transparent=True)"
   ]
  },
  {
   "cell_type": "code",
   "execution_count": null,
   "id": "283fe105",
   "metadata": {
    "scrolled": false
   },
   "outputs": [],
   "source": [
    "np.random.seed(40)\n",
    "\n",
    "dic_atlas={'STARmap':'Atlas1','Allen':'Atlas2','MERFISH':'Atlas3','Vizgen':'Atlas4','EEL':'Atlas5'}\n",
    "celltype.obs['name_all'] = celltype.obs['name'].replace(dic_atlas)\n",
    "\n",
    "color_palette=np.random.rand(celltype.obs['name_all'].unique().shape[0],3)\n",
    "color_dic = {}\n",
    "for ind,i in enumerate(celltype.obs['name_all'].unique()):\n",
    "    color_dic[i]=color_palette[ind]\n",
    "\n",
    " \n",
    "\n",
    "fig,ax = plt.subplots(figsize=(7,7))\n",
    "ax = sc.pl.umap(celltype,color='name_all',size=0.5,\n",
    "                ax=ax,show=False,palette=color_dic)\n",
    "plt.axis('off')\n",
    "plt.title('UMAP of single-cell Embedding colored by atlas IDs')\n",
    "# plt.savefig('figures_umap/celltype_batch.png',dpi=300,transparent=True)"
   ]
  },
  {
   "cell_type": "code",
   "execution_count": null,
   "id": "a75ab51a",
   "metadata": {
    "scrolled": false
   },
   "outputs": [],
   "source": [
    "starmap_obs = pd.read_csv('source_data/color/starmap_main.csv')\n",
    "color_dic = dict(zip(starmap_obs['key'],starmap_obs['color']))\n",
    "\n",
    "\n",
    "fig,ax = plt.subplots(figsize=(7,7))\n",
    "ax = sc.pl.umap(celltype,color='transfer_gt_cell_type_main_STARmap',legend_fontsize=2,size=0.5,\n",
    "                palette=color_dic,legend_loc=False,\n",
    "                ax=ax,show=False)\n",
    "plt.axis('off')\n",
    "plt.title('UMAP of single-cell Embedding colored by transferred A1N labels')\n",
    "# plt.savefig('figures_umap/celltype_label_starmap.png',dpi=300,transparent=True)"
   ]
  },
  {
   "cell_type": "code",
   "execution_count": null,
   "id": "ddf38081",
   "metadata": {},
   "outputs": [],
   "source": [
    "starmap_obs = pd.read_csv('source_data/color/allen_main.csv')\n",
    "color_dic = dict(zip(starmap_obs['key'],starmap_obs['color']))\n",
    "\n",
    "\n",
    "fig,ax = plt.subplots(figsize=(7,7))\n",
    "ax = sc.pl.umap(celltype,color='transfer_gt_cell_type_main_Allen',legend_fontsize=2,size=0.5,\n",
    "                palette=color_dic,legend_loc=False,\n",
    "                ax=ax,show=False)\n",
    "plt.axis('off')\n",
    "plt.title('UMAP of single-cell Embedding colored by transferred A2N labels')\n",
    "# plt.savefig('figures_umap/celltype_label_starmap.png',dpi=300,transparent=True)"
   ]
  },
  {
   "cell_type": "markdown",
   "id": "8d2cee5b",
   "metadata": {},
   "source": [
    "### plot representative coronal spatial_map"
   ]
  },
  {
   "cell_type": "code",
   "execution_count": null,
   "id": "cfd00170",
   "metadata": {
    "scrolled": true
   },
   "outputs": [],
   "source": [
    "starmap_obs = pd.read_csv('source_data/color/starmap_main.csv')\n",
    "color_dic = dict(zip(starmap_obs['key'],starmap_obs['color']))\n",
    "\n",
    "for plotid in [8,39,50,85,113,143,166,185,200,215,230,242,275,289,305,321,332,363,381,398]:\n",
    "    \n",
    "    ad_batch_i = ad_embed_all_celltype[ad_embed_all_celltype.obs['ap_order']==str(plotid)]\n",
    "    ad_batch_i = ad_batch_i[~ad_batch_i.obs['global_z'].isna()]\n",
    "    \n",
    "    fig,ax = plt.subplots(figsize=((max(ad_batch_i.obs['global_z'])-min(ad_batch_i.obs['global_z']))/100,\n",
    "                                  (max(ad_batch_i.obs['global_y'])-min(ad_batch_i.obs['global_y']))/100))\n",
    "    plt.scatter(ad_batch_i.obs['global_z'],ad_batch_i.obs['global_y'],s=0.3,c=[color_dic[i] for i in ad_batch_i.obs['transfer_gt_cell_type_main_STARmap']])\n",
    "    plt.axis('off')\n",
    "    plt.title('Section '+str(plotid))\n",
    "    plt.gca().invert_yaxis()\n"
   ]
  },
  {
   "cell_type": "code",
   "execution_count": null,
   "id": "edfe11de",
   "metadata": {},
   "outputs": [],
   "source": [
    "starmap_obs = pd.read_csv('source_data/color/starmap_main.csv')\n",
    "color_dic = dict(zip(starmap_obs['key'],starmap_obs['color']))\n",
    "\n",
    "for plotid in [424]:\n",
    "    \n",
    "    ad_batch_i = ad_embed_all_celltype[ad_embed_all_celltype.obs['ap_order']==str(plotid)]\n",
    "    ad_batch_i = ad_batch_i[~ad_batch_i.obs['global_z'].isna()]\n",
    "    \n",
    "    fig,ax = plt.subplots(figsize=((max(ad_batch_i.obs['global_x'])-min(ad_batch_i.obs['global_x']))/100,\n",
    "                                  (max(ad_batch_i.obs['global_y'])-min(ad_batch_i.obs['global_y']))/100))\n",
    "    plt.scatter(ad_batch_i.obs['global_x'],ad_batch_i.obs['global_y'],s=0.3,c=[color_dic[i] for i in ad_batch_i.obs['transfer_gt_cell_type_main_STARmap']])\n",
    "    plt.axis('off')\n",
    "    plt.title('Section '+str(plotid))\n",
    "    plt.gca().invert_yaxis()\n"
   ]
  },
  {
   "cell_type": "code",
   "execution_count": null,
   "id": "a49a0b7b",
   "metadata": {},
   "outputs": [],
   "source": []
  },
  {
   "cell_type": "code",
   "execution_count": null,
   "id": "9a110408",
   "metadata": {},
   "outputs": [],
   "source": [
    "allen_obs = pd.read_csv('source_data/color/allen_main.csv')\n",
    "color_dic = dict(zip(allen_obs['key'],allen_obs['color']))\n",
    "\n",
    "for plotid in [8,39,50,85,113,143,166,185,200,215,230,242,275,289,305,321,332,363,381,398]:\n",
    "    \n",
    "    ad_batch_i = ad_embed_all_celltype[ad_embed_all_celltype.obs['ap_order']==str(plotid)]\n",
    "    ad_batch_i = ad_batch_i[~ad_batch_i.obs['global_z'].isna()]\n",
    "    \n",
    "    fig,ax = plt.subplots(figsize=((max(ad_batch_i.obs['global_z'])-min(ad_batch_i.obs['global_z']))/100,\n",
    "                                  (max(ad_batch_i.obs['global_y'])-min(ad_batch_i.obs['global_y']))/100))\n",
    "    plt.scatter(ad_batch_i.obs['global_z'],ad_batch_i.obs['global_y'],s=0.3,\n",
    "                c=[color_dic[i] for i in ad_batch_i.obs['transfer_gt_cell_type_main_Allen']])\n",
    "    plt.axis('off')\n",
    "    plt.title('Section '+str(plotid))\n",
    "    plt.gca().invert_yaxis()\n"
   ]
  },
  {
   "cell_type": "code",
   "execution_count": null,
   "id": "415b3744",
   "metadata": {},
   "outputs": [],
   "source": [
    "allen_obs = pd.read_csv('source_data/color/allen_main.csv')\n",
    "color_dic = dict(zip(allen_obs['key'],allen_obs['color']))\n",
    "\n",
    "for plotid in [424]:\n",
    "    \n",
    "    ad_batch_i = ad_embed_all_celltype[ad_embed_all_celltype.obs['ap_order']==str(plotid)]\n",
    "    ad_batch_i = ad_batch_i[~ad_batch_i.obs['global_z'].isna()]\n",
    "    \n",
    "    fig,ax = plt.subplots(figsize=((max(ad_batch_i.obs['global_x'])-min(ad_batch_i.obs['global_x']))/100,\n",
    "                                  (max(ad_batch_i.obs['global_y'])-min(ad_batch_i.obs['global_y']))/100))\n",
    "    plt.scatter(ad_batch_i.obs['global_x'],ad_batch_i.obs['global_y'],s=0.3,\n",
    "                c=[color_dic[i] for i in ad_batch_i.obs['transfer_gt_cell_type_main_Allen']])\n",
    "    plt.axis('off')\n",
    "    plt.title('Section '+str(plotid))\n",
    "    plt.gca().invert_yaxis()\n"
   ]
  },
  {
   "cell_type": "code",
   "execution_count": null,
   "id": "43d14766",
   "metadata": {},
   "outputs": [],
   "source": []
  }
 ],
 "metadata": {
  "kernelspec": {
   "display_name": "Python 3 (ipykernel)",
   "language": "python",
   "name": "python3"
  },
  "language_info": {
   "codemirror_mode": {
    "name": "ipython",
    "version": 3
   },
   "file_extension": ".py",
   "mimetype": "text/x-python",
   "name": "python",
   "nbconvert_exporter": "python",
   "pygments_lexer": "ipython3",
   "version": "3.7.13"
  }
 },
 "nbformat": 4,
 "nbformat_minor": 5
}
