{
 "cells": [
  {
   "cell_type": "code",
   "execution_count": null,
   "id": "df38eceb",
   "metadata": {},
   "outputs": [],
   "source": [
    "import scanpy as sc\n",
    "import pandas as pd\n",
    "import numpy as np\n",
    "import matplotlib.pyplot as plt\n",
    "import anndata as ad\n",
    "import scanpy.external as sce\n",
    "from sklearn import preprocessing\n",
    "import pickle5 as pickle\n",
    "from tqdm import tqdm\n",
    "from sklearn.neighbors import NearestNeighbors\n",
    "from sklearn import preprocessing\n",
    "import sklearn\n",
    "from sklearn.metrics import accuracy_score\n",
    "\n",
    "from utils import *\n",
    "\n",
    "import matplotlib.pyplot as plt\n",
    "\n",
    "eps=1e-100\n"
   ]
  },
  {
   "cell_type": "code",
   "execution_count": null,
   "id": "cd735e91",
   "metadata": {},
   "outputs": [],
   "source": [
    "\n",
    "tissueregion_starmap=sc.read_h5ad('source_data/ad_embed.h5ad')    \n"
   ]
  },
  {
   "cell_type": "code",
   "execution_count": null,
   "id": "c6e06d1d",
   "metadata": {},
   "outputs": [],
   "source": [
    "np.random.seed(40)\n",
    "tissueregion_starmap_test=tissueregion_starmap[np.random.permutation(tissueregion_starmap.shape[0])[:1000000]]\n",
    "\n",
    "sc.pp.neighbors(tissueregion_starmap_test, n_neighbors=50,use_rep='X')\n",
    "\n",
    "sc.tl.umap(tissueregion_starmap_test)\n"
   ]
  },
  {
   "cell_type": "code",
   "execution_count": null,
   "id": "7a34904e",
   "metadata": {
    "scrolled": true
   },
   "outputs": [],
   "source": [
    "color_palette=np.random.rand(tissueregion_starmap_test.obs['batch'].unique().shape[0],3)\n",
    "\n",
    "import seaborn as sns\n",
    "color_dic = {}\n",
    "for ind,i in enumerate(tissueregion_starmap_test.obs['batch'].unique()):\n",
    "    color_dic[i]=color_palette[ind]\n",
    "\n",
    "fig,ax = plt.subplots(figsize=(7,7))\n",
    "ax = sc.pl.umap(tissueregion_starmap_test,color='batch',size=5,legend_loc=[],\n",
    "                palette=color_dic,\n",
    "                ax=ax,show=False)\n",
    "plt.axis('off')\n",
    "plt.title('UMAP of spatial Embedding colored by Atlas IDs')\n",
    "\n",
    "plt.title('')\n",
    "# plt.savefig('figures_umap/tissueregion_label_batch.png',dpi=300,transparent=True)"
   ]
  },
  {
   "cell_type": "code",
   "execution_count": null,
   "id": "7c8e214d",
   "metadata": {},
   "outputs": [],
   "source": [
    "tissueregion_starmap_test.obs['name_all']=tissueregion_starmap_test.obs['name']\n",
    "tissueregion_starmap_test.obs['name_all']=tissueregion_starmap_test.obs['name_all'].astype('str')\n",
    "tissueregion_starmap_test.obs.loc[tissueregion_starmap_test.obs['name_all'].isin(['VizgenVizgen_S1R1',\n",
    " 'VizgenVizgen_S1R2',\n",
    " 'VizgenVizgen_S1R3',\n",
    " 'VizgenVizgen_S2R1',\n",
    " 'VizgenVizgen_S2R2',\n",
    " 'VizgenVizgen_S2R3',\n",
    " 'VizgenVizgen_S3R1',\n",
    " 'VizgenVizgen_S3R2',\n",
    " 'VizgenVizgen_S3R3']),'name_all']='Vizgen'\n",
    "\n",
    "dic_atlas={'STARmap':'Atlas1','Allen':'Atlas2','MERFISH':'Atlas3','Vizgen':'Atlas4',\n",
    "           'EEL':'Atlas5','Stereoseq':'Atlas6','Slideseq':'Atlas7'}\n",
    "tissueregion_starmap_test.obs['name_all'] = tissueregion_starmap_test.obs['name_all'].replace(dic_atlas)\n",
    "\n",
    "\n",
    "fig,ax = plt.subplots(figsize=(7,7))\n",
    "ax = sc.pl.umap(tissueregion_starmap_test,color='name_all',size=5,legend_loc=[],\n",
    "                \n",
    "                ax=ax,show=False)\n",
    "plt.axis('off')\n",
    "plt.title('UMAP of spatial Embedding colored by Atlas IDs')\n",
    "# plt.savefig('figures_umap/tissueregion_label_name.png',dpi=300,transparent=True)"
   ]
  },
  {
   "cell_type": "code",
   "execution_count": null,
   "id": "bed4d7f2",
   "metadata": {
    "scrolled": false
   },
   "outputs": [],
   "source": [
    "\n",
    "starmap_adata_obs = pd.read_csv('source_data/color/starmap_main.csv',index_col=0)\n",
    "color_dic = dict(zip(starmap_adata_obs['key'],\n",
    "                     starmap_adata_obs['color']))\n",
    "\n",
    "\n",
    "fig,ax = plt.subplots(figsize=(7,7))\n",
    "ax = sc.pl.umap(tissueregion_starmap_test,color='transfer_gt_tissue_region_main_STARmap',legend_fontsize=2,\n",
    "                size=5,\n",
    "                palette=color_dic,legend_loc=False,\n",
    "                ax=ax,show=False)\n",
    "plt.axis('off')\n",
    "plt.title('UMAP of spatial Embedding colored by transferred main level A1N labels')\n",
    "# plt.savefig('figures/tissueregion_label_main.png',dpi=300,transparent=True)"
   ]
  },
  {
   "cell_type": "code",
   "execution_count": null,
   "id": "7b88a4f1",
   "metadata": {
    "scrolled": false
   },
   "outputs": [],
   "source": [
    "\n",
    "starmap_adata_obs = pd.read_csv('source_data/color/starmap_sub.csv',index_col=0)\n",
    "color_dic = dict(zip(starmap_adata_obs['key'],\n",
    "                     starmap_adata_obs['color']))\n",
    "\n",
    "\n",
    "fig,ax = plt.subplots(figsize=(7,7))\n",
    "ax = sc.pl.umap(tissueregion_starmap_test,color='transfer_gt_tissue_region_sub_STARmap',legend_fontsize=2,\n",
    "                size=5,\n",
    "                palette=color_dic,legend_loc=False,\n",
    "                ax=ax,show=False)\n",
    "plt.axis('off')\n",
    "plt.title('UMAP of spatial Embedding colored by transferred sublevel A1N labels')\n",
    "# plt.savefig('figures/tissueregion_label_sub.png',dpi=300,transparent=True)"
   ]
  },
  {
   "cell_type": "markdown",
   "id": "6f5bee88",
   "metadata": {},
   "source": [
    "### plot spatial_map"
   ]
  },
  {
   "cell_type": "code",
   "execution_count": null,
   "id": "61003f54",
   "metadata": {},
   "outputs": [],
   "source": [
    "starmap_adata_obs = pd.read_csv('source_data/color/starmap_main.csv',index_col=0)\n",
    "color_dic = dict(zip(starmap_adata_obs['key'],\n",
    "                     starmap_adata_obs['color']))"
   ]
  },
  {
   "cell_type": "code",
   "execution_count": null,
   "id": "6d0d7235",
   "metadata": {
    "scrolled": true
   },
   "outputs": [],
   "source": [
    "for plotid in [8,39,50,85,113,143,166,185,200,215,230,242,275,289,305,321,332,363,381,398]:\n",
    "\n",
    "        \n",
    "    ad_batch_i = tissueregion_starmap[tissueregion_starmap.obs['ap_order']==plotid]\n",
    "    ad_batch_i = ad_batch_i[~ad_batch_i.obs['global_z'].isna()]\n",
    "    \n",
    "    fig,ax = plt.subplots(figsize=((max(ad_batch_i.obs['global_z'])-min(ad_batch_i.obs['global_z']))/100,\n",
    "                                  (max(ad_batch_i.obs['global_y'])-min(ad_batch_i.obs['global_y']))/100))\n",
    "    plt.scatter(ad_batch_i.obs['global_z'],ad_batch_i.obs['global_y'],s=0.3,c=[color_dic[i] for i in ad_batch_i.obs['transfer_gt_tissue_region_main_STARmap']])\n",
    "    plt.axis('off')\n",
    "    plt.title('Section '+str(plotid))\n",
    "    plt.gca().invert_yaxis()\n",
    "    "
   ]
  },
  {
   "cell_type": "code",
   "execution_count": null,
   "id": "49055b21",
   "metadata": {},
   "outputs": [],
   "source": [
    "for plotid in [424]:\n",
    "\n",
    "        \n",
    "    ad_batch_i = tissueregion_starmap[tissueregion_starmap.obs['ap_order']==plotid]\n",
    "    ad_batch_i = ad_batch_i[~ad_batch_i.obs['global_z'].isna()]\n",
    "    \n",
    "    fig,ax = plt.subplots(figsize=((max(ad_batch_i.obs['global_x'])-min(ad_batch_i.obs['global_x']))/100,\n",
    "                                  (max(ad_batch_i.obs['global_y'])-min(ad_batch_i.obs['global_y']))/100))\n",
    "    plt.scatter(ad_batch_i.obs['global_x'],ad_batch_i.obs['global_y'],s=0.3,c=[color_dic[i] for i in ad_batch_i.obs['transfer_gt_tissue_region_main_STARmap']])\n",
    "    plt.axis('off')\n",
    "    plt.title('Section '+str(plotid))\n",
    "    plt.gca().invert_yaxis()\n",
    "    "
   ]
  },
  {
   "cell_type": "code",
   "execution_count": null,
   "id": "93d6285a",
   "metadata": {},
   "outputs": [],
   "source": []
  }
 ],
 "metadata": {
  "kernelspec": {
   "display_name": "Python 3 (ipykernel)",
   "language": "python",
   "name": "python3"
  },
  "language_info": {
   "codemirror_mode": {
    "name": "ipython",
    "version": 3
   },
   "file_extension": ".py",
   "mimetype": "text/x-python",
   "name": "python",
   "nbconvert_exporter": "python",
   "pygments_lexer": "ipython3",
   "version": "3.7.13"
  }
 },
 "nbformat": 4,
 "nbformat_minor": 5
}
