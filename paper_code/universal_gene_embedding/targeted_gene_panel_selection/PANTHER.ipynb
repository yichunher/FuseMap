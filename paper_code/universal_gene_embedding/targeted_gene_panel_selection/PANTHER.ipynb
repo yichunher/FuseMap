{
 "cells": [
  {
   "cell_type": "code",
   "execution_count": null,
   "id": "4053d0ae",
   "metadata": {},
   "outputs": [],
   "source": [
    "import scanpy as sc\n",
    "import pandas as pd\n",
    "import numpy as np\n",
    "import matplotlib.pyplot as plt\n",
    "import anndata as ad\n",
    "import scanpy.external as sce\n",
    "from sklearn import preprocessing\n",
    "import pickle5 as pickle\n",
    "from tqdm import tqdm\n",
    "from sklearn.neighbors import NearestNeighbors\n",
    "from sklearn import preprocessing\n",
    "import sklearn\n",
    "from sklearn.metrics import accuracy_score\n",
    "import pandas as pd\n",
    "from scipy.spatial.distance import pdist \n",
    "from scipy.stats import mannwhitneyu\n",
    "from utils import *\n",
    "import requests\n",
    "import seaborn as sns\n",
    "\n",
    "eps=1e-100\n"
   ]
  },
  {
   "cell_type": "code",
   "execution_count": null,
   "id": "8f711ab7",
   "metadata": {},
   "outputs": [],
   "source": [
    "# ad_gene_embedding.obs\n",
    "ad_gene_embedding=sc.read_h5ad(f\"../source_data/ad_embed.h5ad\")\n"
   ]
  },
  {
   "cell_type": "code",
   "execution_count": null,
   "id": "11d2f9ab",
   "metadata": {},
   "outputs": [],
   "source": [
    "# URL of the file to be downloaded\n",
    "url = 'http://data.pantherdb.org/ftp/sequence_classifications/current_release/PANTHER_Sequence_Classification_files/PTHR18.0_mouse'\n",
    "response = requests.get(url)\n",
    "if response.status_code == 200:\n",
    "    with open('../source_data/PTHR18.0_mouse.txt', 'wb') as file:\n",
    "        file.write(response.content)\n",
    "    print(\"File downloaded successfully.\")\n",
    "else:\n",
    "    print(f\"Failed to download the file. Status code: {response.status_code}\")\n"
   ]
  },
  {
   "cell_type": "code",
   "execution_count": null,
   "id": "3d41271d",
   "metadata": {},
   "outputs": [],
   "source": [
    "file_path = '../source_data/PTHR18.0_mouse.txt'\n",
    "\n",
    "with open(file_path, 'r') as file:\n",
    "    content = file.read()\n",
    "    \n",
    "\n",
    "lines = content.strip().split('\\n')\n",
    "data = [line.split('\\t') for line in lines]\n",
    "df = pd.DataFrame(data)\n",
    "num_columns = len(data[0])\n",
    "column_names = [f'Column{i+1}' for i in range(num_columns)]\n",
    "df.columns = column_names\n",
    "\n",
    "df = df.rename(columns={'Column1':'MGI_UniProtKB_ID',\n",
    "                  'Column3':'gene_symbol',\n",
    "                  'Column5':'protein_family_main',\n",
    "                   'Column6':'protein_family_sub',\n",
    "                   'Column7':'MF_term',\n",
    "                   'Column8':'BP_term',\n",
    "                   'Column9':'CC_term',})"
   ]
  },
  {
   "cell_type": "code",
   "execution_count": null,
   "id": "4d6bfec6",
   "metadata": {
    "scrolled": true
   },
   "outputs": [],
   "source": [
    "umap_coordinates={}\n",
    "for gene in ad_gene_embedding.obs.index:\n",
    "    umap_coordinates[gene] = np.array(ad_gene_embedding[gene].obsm['X_umap'])"
   ]
  },
  {
   "cell_type": "code",
   "execution_count": null,
   "id": "56e39f75",
   "metadata": {
    "scrolled": false
   },
   "outputs": [],
   "source": [
    "p_values_all={}\n",
    "for lookcolumn in ['protein_family_main','protein_family_sub','MF_term','BP_term','CC_term']:\n",
    "    p_values_all[lookcolumn]=[]\n",
    "    indd=0\n",
    "    allfocus=df[lookcolumn].unique()\n",
    "    for ind in tqdm(range(len(allfocus))):\n",
    "        focus = allfocus[ind]\n",
    "        if focus!='':\n",
    "            samplelist = [i.upper() for i in df.loc[df[lookcolumn]==focus,'gene_symbol'].unique()]\n",
    "\n",
    "            all_list = []\n",
    "            for i in samplelist:\n",
    "                if i in ad_gene_embedding.obs.index:\n",
    "                    all_list.append(i)\n",
    "            go_genes = all_list\n",
    "\n",
    "            # more than three genes in this GO term\n",
    "            if len(all_list)>3:\n",
    "                go_distances = pdist(np.array([umap_coordinates[gene] for gene in go_genes]).squeeze())\n",
    "\n",
    "                random_distances = []\n",
    "                for _ in range(1000):\n",
    "                    random_genes = random.sample(umap_coordinates.keys(), len(go_genes))\n",
    "                    distances = pdist(np.array([umap_coordinates[gene] for gene in random_genes]).squeeze())\n",
    "                    random_distances.append(np.mean(distances))  # Using mean as an example\n",
    "\n",
    "                # Statistical test\n",
    "                u_stat, p_value = mannwhitneyu([np.mean(go_distances)], random_distances, alternative='less')\n",
    "\n",
    "                \n",
    "                p_values_all[lookcolumn].append(p_value)"
   ]
  },
  {
   "cell_type": "code",
   "execution_count": null,
   "id": "ceed7eac",
   "metadata": {
    "scrolled": true
   },
   "outputs": [],
   "source": [
    "import json\n",
    "\n",
    "# filename = '../source_data/PANTHER/p_values_all.json'\n",
    "# with open(filename, 'w') as f:\n",
    "#     json.dump(p_values_all, f, indent=4)\n",
    "\n",
    "with open('../source_data/PANTHER/p_values_all.json', 'r') as f:\n",
    "    p_values_all = json.load(f)"
   ]
  },
  {
   "cell_type": "code",
   "execution_count": null,
   "id": "dbd952ef",
   "metadata": {},
   "outputs": [],
   "source": [
    "from statsmodels.stats.multitest import multipletests\n",
    "adj_p_values_all={}\n",
    "for lookcolumn in ['protein_family_main','protein_family_sub','MF_term','BP_term','CC_term']:\n",
    "    focus_pvalue = p_values_all[lookcolumn]\n",
    "    \n",
    "    # Apply Benjamini-Hochberg correction\n",
    "    adjusted_p_values = multipletests(focus_pvalue, method='fdr_bh')[1]\n",
    "    adj_p_values_all[lookcolumn]=adjusted_p_values\n",
    "    \n",
    "    # Interpret adjusted p-values\n",
    "    significant_results = adjusted_p_values < 0.05\n",
    "\n",
    "    print(f'{sum(significant_results)} {lookcolumn} are significant close.')\n",
    "    "
   ]
  },
  {
   "cell_type": "markdown",
   "id": "75c8e636",
   "metadata": {},
   "source": [
    "#### plot UMAP"
   ]
  },
  {
   "cell_type": "code",
   "execution_count": null,
   "id": "eefcbd47",
   "metadata": {
    "scrolled": true
   },
   "outputs": [],
   "source": [
    "lookcolumn='protein_family_main'\n",
    "\n",
    "names_all={}\n",
    "genes_all={}\n",
    "\n",
    "names_all[lookcolumn]=[]\n",
    "genes_all[lookcolumn]=[]\n",
    "indd=0\n",
    "allfocus=df[lookcolumn].unique()\n",
    "for ind in tqdm(range(len(allfocus))):\n",
    "    focus = allfocus[ind]\n",
    "    if focus!='':\n",
    "        samplelist = [i.upper() for i in df.loc[df[lookcolumn]==focus,'gene_symbol'].unique()]\n",
    "\n",
    "        all_list = []\n",
    "        for i in samplelist:\n",
    "            if i in ad_gene_embedding.obs.index:\n",
    "                all_list.append(i)\n",
    "        go_genes = all_list\n",
    "\n",
    "        if len(all_list)>3:\n",
    "            names_all[lookcolumn].append(focus)\n",
    "            genes_all[lookcolumn].append(all_list)\n",
    "            \n",
    "flattened_list = [item for sublist in genes_all[lookcolumn] for item in sublist]"
   ]
  },
  {
   "cell_type": "code",
   "execution_count": null,
   "id": "d5142daa",
   "metadata": {},
   "outputs": [],
   "source": [
    "category_all=[]\n",
    "all_genes = []\n",
    "for focus in np.array(names_all[lookcolumn])[np.array(adj_p_values_all[lookcolumn])<0.05]:\n",
    "    \n",
    "    samplelist = [i.upper() for i in df.loc[df[lookcolumn]==focus,'gene_symbol'].unique()]\n",
    "\n",
    "\n",
    "    all_list = []\n",
    "    for i in samplelist:\n",
    "        if i in ad_gene_embedding.obs.index:\n",
    "            all_list.append(i)\n",
    "    all_genes.append(all_list)\n",
    "    category_all.append(focus)\n",
    "    \n",
    "flattened_list = [item for sublist in all_genes for item in sublist]\n",
    "\n",
    "ad_gene_embedding.obs[f'category_{lookcolumn}']=''\n",
    "for gene, categ in zip(all_genes,category_all):\n",
    "    ad_gene_embedding.obs.loc[gene,f'category_{lookcolumn}']=categ"
   ]
  },
  {
   "cell_type": "code",
   "execution_count": null,
   "id": "cdf22d31",
   "metadata": {},
   "outputs": [],
   "source": [
    "ad_gene_embedding.obs['category']=ad_gene_embedding.obs['category_protein_family_main']\n",
    "\n",
    "ad_gene_embedding_sub = ad_gene_embedding[ad_gene_embedding.obs['category']!='',:]\n"
   ]
  },
  {
   "cell_type": "code",
   "execution_count": null,
   "id": "4fa7473b",
   "metadata": {},
   "outputs": [],
   "source": [
    "np.random.seed(40)\n",
    "color_palette=np.random.rand(ad_gene_embedding_sub.obs['category'].unique().shape[0],3)\n",
    "color_dic = {}\n",
    "for ind,i in enumerate(ad_gene_embedding_sub.obs['category'].unique()):\n",
    "    color_dic[i]=color_palette[ind]\n",
    "    "
   ]
  },
  {
   "cell_type": "code",
   "execution_count": null,
   "id": "faa861ce",
   "metadata": {},
   "outputs": [],
   "source": [
    "plt.figure(figsize=(10,10))\n",
    "plt.scatter(ad_gene_embedding.obsm['X_umap'][:,0],\n",
    "           ad_gene_embedding.obsm['X_umap'][:,1],s=1,c='lightgrey')\n",
    "for i in ad_gene_embedding_sub.obs['category'].unique():\n",
    "    \n",
    "\n",
    "    plt.scatter(np.median(ad_gene_embedding_sub[ad_gene_embedding_sub.obs['category']==i,:].obsm['X_umap'][:,0]),\n",
    "               np.median(ad_gene_embedding_sub[ad_gene_embedding_sub.obs['category']==i,:].obsm['X_umap'][:,1]),\n",
    "                         s=100*np.log10(ad_gene_embedding_sub[ad_gene_embedding_sub.obs['category']==i,:].shape[0]),\n",
    "                lw=2,facecolors='white', edgecolors=color_dic[i])\n",
    "\n",
    "    \n",
    "plt.scatter(16,-1, s=100*np.log10(1000), lw=2,\n",
    "        facecolors='white', edgecolors='k')\n",
    "\n",
    "plt.scatter(16,0, s=100*np.log10(100), lw=2,\n",
    "        facecolors='white', edgecolors='k')\n",
    "\n",
    "plt.scatter(16,1, s=100*np.log10(10), lw=2,\n",
    "        facecolors='white', edgecolors='k')\n"
   ]
  },
  {
   "cell_type": "markdown",
   "id": "50051d05",
   "metadata": {
    "scrolled": true
   },
   "source": [
    "#### plot examples"
   ]
  },
  {
   "cell_type": "code",
   "execution_count": null,
   "id": "2fc173f8",
   "metadata": {},
   "outputs": [],
   "source": [
    "plot_name=['LIPOCALIN','LUPUS LA PROTEIN-RELATED','CHARGED MULTIVESICULAR BODY PROTEIN',\n",
    "          'RNA RECOGNITION MOTIF  RRM  DOMAIN CONTAINING PROTEIN','G PROTEIN-COUPLED RECEPTOR',\n",
    "          'MICROTUBULE-ASSOCIATED PROTEINS 1A/1B LIGHT CHAIN 3-RELATED','CHYMOTRYPSIN-RELATED',\n",
    "           'NEUROPEPTIDES RECEPTOR']"
   ]
  },
  {
   "cell_type": "code",
   "execution_count": null,
   "id": "303d0bc1",
   "metadata": {
    "scrolled": true
   },
   "outputs": [],
   "source": [
    "\n",
    "from adjustText import adjust_text\n",
    "\n",
    "for i in plot_name:\n",
    "    focus=ad_gene_embedding_sub[ad_gene_embedding_sub.obs['category']==i,:]\n",
    "    x = list(focus.obsm['X_umap'][:,0])\n",
    "    y = list(focus.obsm['X_umap'][:,1])\n",
    "    texts = list(focus.obs.index)\n",
    "    texts=[i.capitalize() for i in texts]\n",
    "\n",
    "    fig, ax = plt.subplots(figsize=(8,8))\n",
    "\n",
    "\n",
    "    ax.scatter(ad_gene_embedding.obsm['X_umap'][:,0],\n",
    "               ad_gene_embedding.obsm['X_umap'][:,1],s=1,c='lightgrey')\n",
    "\n",
    "    ax.scatter(focus.obsm['X_umap'][:,0],\n",
    "                focus.obsm['X_umap'][:,1],\n",
    "                         s=10,color=color_dic[i])\n",
    "\n",
    "    texts_to_adjust = []\n",
    "    for ind, txt in enumerate(texts):\n",
    "        texts_to_adjust.append(ax.text(x[ind], y[ind], txt, fontname='Arial',))\n",
    "\n",
    "    adjust_text(texts_to_adjust, x=x, y=y, arrowprops=dict(arrowstyle='->', color='red'))\n",
    "    plt.axis('off')\n",
    "    i=i.split('/')[0]\n",
    "#     plt.savefig(f'figures_refine/{i}.png',dpi=300,transparent=True)\n"
   ]
  },
  {
   "cell_type": "markdown",
   "id": "265342b0",
   "metadata": {},
   "source": [
    "#### plot pairwise distance"
   ]
  },
  {
   "cell_type": "code",
   "execution_count": null,
   "id": "b2c96dee",
   "metadata": {
    "scrolled": true
   },
   "outputs": [],
   "source": [
    "distance_summaries = {}\n",
    "p_values_all={}\n",
    "for lookcolumn in ['protein_family_main']:\n",
    "    distance_summaries[lookcolumn] = {'GO': [], 'Random': [],'corr':[]}\n",
    "    p_values_all[lookcolumn]=[]\n",
    "    indd=0\n",
    "    allfocus=df[lookcolumn].unique()\n",
    "    for ind in tqdm(range(len(allfocus))):\n",
    "        focus = allfocus[ind]\n",
    "        if focus!='':\n",
    "            samplelist = [i.upper() for i in df.loc[df[lookcolumn]==focus,'gene_symbol'].unique()]\n",
    "\n",
    "\n",
    "            all_list = []\n",
    "            for i in samplelist:\n",
    "                if i in ad_gene_embedding.obs.index:\n",
    "            #         print(i)\n",
    "                    all_list.append(i)\n",
    "            go_genes = all_list\n",
    "\n",
    "            if len(all_list)>3:\n",
    "                go_distances = pdist(np.array([umap_coordinates[gene] for gene in go_genes]).squeeze())\n",
    "\n",
    "                # Calculate distances for random groups\n",
    "                random_distances = []\n",
    "                for _ in range(1000):\n",
    "                    random_genes = random.sample(umap_coordinates.keys(), len(go_genes))\n",
    "                    distances = pdist(np.array([umap_coordinates[gene] for gene in random_genes]).squeeze())\n",
    "                    random_distances.append(np.mean(distances))  # Using mean as an example\n",
    "\n",
    "                distance_summaries[lookcolumn]['GO'].append(np.mean(go_distances))\n",
    "                distance_summaries[lookcolumn]['Random'].append(np.mean(random_distances))\n",
    "\n",
    "                # Statistical test\n",
    "                u_stat, p_value = mannwhitneyu([np.mean(go_distances)], random_distances, alternative='less')\n",
    "                distance_summaries[lookcolumn]['corr'].append(p_value)\n",
    "df_for_plotting = pd.DataFrame(distance_summaries['protein_family_main'])"
   ]
  },
  {
   "cell_type": "code",
   "execution_count": null,
   "id": "1323d0aa",
   "metadata": {
    "scrolled": true
   },
   "outputs": [],
   "source": [
    "pd_for_plotting={'dis':[],'identity':[]}\n",
    "for i,j,z in zip(df_for_plotting['GO'],df_for_plotting['Random'],df_for_plotting['corr']):\n",
    "        pd_for_plotting['identity'].append('GO')\n",
    "        pd_for_plotting['dis'].append(i)\n",
    "        pd_for_plotting['identity'].append('Random')\n",
    "        pd_for_plotting['dis'].append(j)\n",
    "pd_for_plotting = pd.DataFrame(pd_for_plotting)"
   ]
  },
  {
   "cell_type": "code",
   "execution_count": null,
   "id": "e59d36ff",
   "metadata": {
    "scrolled": false
   },
   "outputs": [],
   "source": [
    "import seaborn as sns\n",
    "from statannotations.Annotator import Annotator\n",
    "\n",
    "plt.figure(figsize=(3, 8))\n",
    "\n",
    "my_pal = {\"GO\": '#bec2bf',  \"Random\":\"#8e80ad\"}\n",
    "g= sns.boxplot(x='identity', y='dis',data=pd_for_plotting,fliersize=0,palette=my_pal,\n",
    "                 zorder=1)# boxprops=dict(facecolor='none', edgecolor='black'))\n",
    "for i, artist in enumerate(g.artists):\n",
    "    col = colors[i % len(colors)]\n",
    "    artist.set_facecolor(col)\n",
    "g= sns.swarmplot(x='identity', y='dis',data=pd_for_plotting,s=1.5,color='k',\n",
    "                 zorder=2,alpha=1)\n",
    "\n",
    "pairs=[(\"GO\", \"Random\")]\n",
    "\n",
    "annotator = Annotator(g, pairs, data=pd_for_plotting, x='identity', y='dis', \n",
    "                      order=['GO','Random'])\n",
    "annotator.configure(test='Mann-Whitney', text_format='star', loc='outside')\n",
    "annotator.apply_and_annotate()\n",
    "\n",
    "\n",
    "# For a violin plot, use sns.violinplot instead\n",
    "plt.title(\"Distribution of Pairwise Distances\")\n",
    "plt.xlabel(\"Group\")\n",
    "plt.ylabel(\"Pairwise Distance\")\n",
    "plt.ylim([0,11])\n",
    "plt.show()\n"
   ]
  },
  {
   "cell_type": "code",
   "execution_count": null,
   "id": "0a0acd3c",
   "metadata": {},
   "outputs": [],
   "source": []
  }
 ],
 "metadata": {
  "kernelspec": {
   "display_name": "Python 3 (ipykernel)",
   "language": "python",
   "name": "python3"
  },
  "language_info": {
   "codemirror_mode": {
    "name": "ipython",
    "version": 3
   },
   "file_extension": ".py",
   "mimetype": "text/x-python",
   "name": "python",
   "nbconvert_exporter": "python",
   "pygments_lexer": "ipython3",
   "version": "3.7.13"
  }
 },
 "nbformat": 4,
 "nbformat_minor": 5
}
