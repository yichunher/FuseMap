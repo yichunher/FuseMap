{
 "cells": [
  {
   "cell_type": "code",
   "execution_count": null,
   "id": "4053d0ae",
   "metadata": {},
   "outputs": [],
   "source": [
    "import scanpy as sc\n",
    "import pandas as pd\n",
    "import numpy as np\n",
    "import matplotlib.pyplot as plt\n",
    "import anndata as ad\n",
    "import scanpy.external as sce\n",
    "from sklearn import preprocessing\n",
    "import pickle5 as pickle\n",
    "from tqdm import tqdm\n",
    "from sklearn.neighbors import NearestNeighbors\n",
    "from sklearn import preprocessing\n",
    "import sklearn\n",
    "from sklearn.metrics import accuracy_score\n",
    "import seaborn as sns\n",
    "import matplotlib.pyplot as plt\n",
    "from utils import *\n",
    "\n",
    "\n",
    "eps=1e-100\n"
   ]
  },
  {
   "cell_type": "markdown",
   "id": "8f543c4c",
   "metadata": {},
   "source": [
    "# plot umap"
   ]
  },
  {
   "cell_type": "code",
   "execution_count": null,
   "id": "8f711ab7",
   "metadata": {},
   "outputs": [],
   "source": [
    "# ad_gene_embedding.obs\n",
    "ad_gene_embedding=sc.read_h5ad(f\"../source_data/ad_embed.h5ad\")\n"
   ]
  },
  {
   "cell_type": "code",
   "execution_count": null,
   "id": "9eb2d7a1",
   "metadata": {},
   "outputs": [],
   "source": [
    "ad_gene_embedding.obs['Atlas1'] = ad_gene_embedding.obs['STARmap']\n",
    "ad_gene_embedding.obs['Atlas2'] = ad_gene_embedding.obs['Allen']\n",
    "ad_gene_embedding.obs['Atlas3_2'] = ad_gene_embedding.obs['MERFISH_sa1']\n",
    "ad_gene_embedding.obs['Atlas3_1'] = ad_gene_embedding.obs['MERFISH_co1']\n",
    "ad_gene_embedding.obs['Atlas4'] = ad_gene_embedding.obs['Vizgen']\n",
    "ad_gene_embedding.obs['Atlas5'] = ad_gene_embedding.obs['EEL']\n",
    "ad_gene_embedding.obs['Atlas6'] = ad_gene_embedding.obs['Stereoseq']\n",
    "ad_gene_embedding.obs['Atlas7'] = ad_gene_embedding.obs['Slideseq']"
   ]
  },
  {
   "cell_type": "code",
   "execution_count": null,
   "id": "27d1b100",
   "metadata": {},
   "outputs": [],
   "source": [
    "for atlas_name in ['Atlas1','Atlas2','Atlas3_1','Atlas3_2','Atlas4','Atlas5','Atlas6','Atlas7']:\n",
    "    ad_gene_embedding.obs[atlas_name]=ad_gene_embedding.obs[atlas_name].astype('str')\n",
    "    ad_gene_embedding.obs.loc[ad_gene_embedding.obs[atlas_name]!='',atlas_name]=atlas_name"
   ]
  },
  {
   "cell_type": "code",
   "execution_count": null,
   "id": "f21a4734",
   "metadata": {},
   "outputs": [],
   "source": [
    "# Concatenating values from columns 'A', 'B', and 'C' into a new column 'D'\n",
    "ad_gene_embedding.obs['D'] = ad_gene_embedding.obs.apply(lambda row: f\"{row['Atlas1']} {row['Atlas2']} {row['Atlas3_1']} {row['Atlas4']} {row['Atlas5']} {row['Atlas6']} {row['Atlas7']}  {row['Atlas3_2']}\", axis=1)\n",
    "\n",
    "# Display "
   ]
  },
  {
   "cell_type": "code",
   "execution_count": null,
   "id": "8d38bea2",
   "metadata": {},
   "outputs": [],
   "source": [
    "ad_gene_embedding.obs['D'] = ad_gene_embedding.obs['D'].astype('str')"
   ]
  },
  {
   "cell_type": "code",
   "execution_count": null,
   "id": "72e87634",
   "metadata": {},
   "outputs": [],
   "source": [
    "ad_gene_embedding.obs.loc[ad_gene_embedding.obs['D']=='        ','D']='    Atlas7    '"
   ]
  },
  {
   "cell_type": "code",
   "execution_count": null,
   "id": "4c570f51",
   "metadata": {},
   "outputs": [],
   "source": [
    "np.random.seed(50)\n",
    "color_palette=np.random.rand(ad_gene_embedding.obs['D'].unique().shape[0],3)\n",
    "\n",
    "\n",
    "color_dic = {}\n",
    "for ind,i in enumerate(ad_gene_embedding.obs['D'].unique()):\n",
    "    color_dic[i]=color_palette[ind]\n",
    "    \n",
    "\n",
    "fig,ax = plt.subplots(figsize=(10,10))\n",
    "ax = sc.pl.umap(ad_gene_embedding,\n",
    "                color='D',size=35,\n",
    "                palette=color_dic,\n",
    "                ax=ax,show=False)"
   ]
  },
  {
   "cell_type": "markdown",
   "id": "6fc30eb4",
   "metadata": {},
   "source": [
    "# intersection genes"
   ]
  },
  {
   "cell_type": "code",
   "execution_count": null,
   "id": "fb79d649",
   "metadata": {
    "scrolled": false
   },
   "outputs": [],
   "source": [
    "import pandas as pd\n",
    "from upsetplot import UpSet\n",
    "\n",
    "example_data = {\n",
    "    'Atlas1': list(ad_gene_embedding.obs['STARmap']=='STARmap'),\n",
    "    'Atlas2': list(ad_gene_embedding.obs['Allen']=='Allen'),\n",
    "    'Atlas3': list(ad_gene_embedding.obs['MERFISH_sa1']=='MERFISH_sa1'),\n",
    "    'Atlas4': list(ad_gene_embedding.obs['Vizgen']=='Vizgen'),\n",
    "    'Atlas5': list(ad_gene_embedding.obs['EEL']=='EEL'),\n",
    "    'Atlas6': list(ad_gene_embedding.obs['Stereoseq']=='Stereoseq'),\n",
    "    'Atlas7': list(ad_gene_embedding.obs['Slideseq']=='Slideseq'),\n",
    "    # ... (other sets) ...\n",
    "}\n",
    "df = pd.DataFrame(example_data)\n",
    "\n",
    "# Convert DataFrame to appropriate format for UpSetPlot\n",
    "df_upset = df.set_index(list(df.columns))\n",
    "# plt.figure(figsize=(10, 36))\n",
    "# Create and show the UpSet plot\n",
    "upset = UpSet(df_upset)\n",
    "\n",
    "# Generate the plot\n",
    "upset.plot()\n",
    "\n",
    "# Get current axis\n",
    "ax = plt.gca()\n",
    "\n",
    "# Add counts above the bars\n",
    "for patch in ax.patches:\n",
    "    height = patch.get_height()\n",
    "    if height > 0:  # if the bar is visible\n",
    "        ax.text(\n",
    "            patch.get_x() + patch.get_width() / 2, \n",
    "            height,  # Position at the top of the bar\n",
    "            int(height),  # The count\n",
    "            ha='center', va='bottom'\n",
    "        )\n",
    "# plt.savefig('figures_refine/geneoverlap1.png',dpi=300, transparent=True)\n",
    "plt.show()\n"
   ]
  }
 ],
 "metadata": {
  "kernelspec": {
   "display_name": "Python 3 (ipykernel)",
   "language": "python",
   "name": "python3"
  },
  "language_info": {
   "codemirror_mode": {
    "name": "ipython",
    "version": 3
   },
   "file_extension": ".py",
   "mimetype": "text/x-python",
   "name": "python",
   "nbconvert_exporter": "python",
   "pygments_lexer": "ipython3",
   "version": "3.7.13"
  }
 },
 "nbformat": 4,
 "nbformat_minor": 5
}
