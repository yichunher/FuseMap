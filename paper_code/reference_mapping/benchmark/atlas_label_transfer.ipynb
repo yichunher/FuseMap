{
 "cells": [
  {
   "cell_type": "code",
   "execution_count": null,
   "id": "b22481b0",
   "metadata": {},
   "outputs": [],
   "source": [
    "import scanpy as sc\n",
    "import pandas as pd\n",
    "import numpy as np\n",
    "import matplotlib.pyplot as plt\n",
    "import anndata as ad\n",
    "import scanpy.external as sce\n",
    "from sklearn import preprocessing\n",
    "import pickle5 as pickle\n",
    "from tqdm import tqdm\n",
    "from sklearn.neighbors import NearestNeighbors\n",
    "from sklearn import preprocessing\n",
    "import sklearn\n",
    "import seaborn as sns\n",
    "\n",
    "from utils import *\n",
    "\n",
    "from sklearn import metrics\n",
    "eps=1e-100\n",
    "\n",
    "def custom_annot(data, fmt_func):\n",
    "    \"\"\"Return formatted annotations.\"\"\"\n",
    "    annot = np.vectorize(fmt_func)(data)\n",
    "    return annot\n",
    "\n",
    "# Custom annotation function\n",
    "def fmt(x):\n",
    "    return '' if x == 0 else '{:.0f}'.format(x)\n"
   ]
  },
  {
   "cell_type": "markdown",
   "id": "8b52584f",
   "metadata": {},
   "source": [
    "# cell-type annotation of hold-out atlas 3 data"
   ]
  },
  {
   "cell_type": "code",
   "execution_count": null,
   "id": "9ff15694",
   "metadata": {
    "scrolled": true
   },
   "outputs": [],
   "source": [
    "ad_embed_all=sc.read_h5ad(f\"source_data/atlas/transfer_celltype_merscope.h5ad\")\n",
    "ad_embed_all_merscope = ad_embed_all[ad_embed_all.obs['name']!='starmap',:]\n",
    "keep_celltype=ad_embed_all_merscope.obs['gt_cell_type_main'].value_counts().keys()[ad_embed_all_merscope.obs['gt_cell_type_main'].value_counts()>10]\n",
    "\n",
    "ad_embed_all_merscope=ad_embed_all_merscope[ad_embed_all_merscope.obs['gt_cell_type_main'].isin(keep_celltype),:]\n",
    "ad_embed_all_merscope=ad_embed_all_merscope[ad_embed_all_merscope.obs['transfer_gt_cell_type_main_merscope'].isin(keep_celltype),:]"
   ]
  },
  {
   "cell_type": "code",
   "execution_count": null,
   "id": "22676da5",
   "metadata": {},
   "outputs": [],
   "source": [
    "metrics.accuracy_score(ad_embed_all_merscope.obs['gt_cell_type_main'], \n",
    "                    ad_embed_all_merscope.obs['transfer_gt_cell_type_main_merscope'])\n"
   ]
  },
  {
   "cell_type": "code",
   "execution_count": null,
   "id": "613b105a",
   "metadata": {},
   "outputs": [],
   "source": [
    "cross_tab = pd.crosstab(ad_embed_all_merscope.obs['gt_cell_type_main'], \n",
    "                        ad_embed_all_merscope.obs['transfer_gt_cell_type_main_merscope'])\n",
    "cross_tab_normalized = cross_tab.div(cross_tab.sum(axis=1), axis=0)\n",
    "cross_tab_normalized = cross_tab_normalized.div(cross_tab_normalized.sum(axis=0), axis=1)"
   ]
  },
  {
   "cell_type": "code",
   "execution_count": null,
   "id": "f228ce2d",
   "metadata": {},
   "outputs": [],
   "source": [
    "# Plot heatmap\n",
    "plt.figure(figsize=(20,15))\n",
    "ax=sns.heatmap(cross_tab_normalized, cmap='Blues')\n",
    "ax.hlines(list(np.arange(29)), color='k',linewidth=0.1,*ax.get_xlim())\n",
    "ax.vlines(list(np.arange(29)), color='k',linewidth=0.1,*ax.get_ylim())\n",
    "plt.title(\"Normalized Correspondence of Two Categories\")\n",
    "# plt.savefig('figures/merscope_celltype.pdf',dpi=300, transparent=True)\n",
    "plt.show()\n"
   ]
  },
  {
   "cell_type": "markdown",
   "id": "f9c0fa81",
   "metadata": {},
   "source": [
    "# cell-type annotation of hold-out atlas 1 data"
   ]
  },
  {
   "cell_type": "code",
   "execution_count": null,
   "id": "2b84c447",
   "metadata": {},
   "outputs": [],
   "source": [
    "ad_embed_all=sc.read_h5ad(f\"source_data/atlas/transfer_celltype_starmap.h5ad\")\n",
    "ad_embed_all_starmap = ad_embed_all[ad_embed_all.obs['name']=='starmap',:]\n",
    "\n",
    "keep_celltype=ad_embed_all_starmap.obs['gt_cell_type_main'].value_counts().keys()[ad_embed_all_starmap.obs['gt_cell_type_main'].value_counts()>10]\n",
    "\n",
    "\n",
    "ad_embed_all_starmap=ad_embed_all_starmap[ad_embed_all_starmap.obs['gt_cell_type_main'].isin(keep_celltype),:]\n",
    "ad_embed_all_starmap=ad_embed_all_starmap[ad_embed_all_starmap.obs['transfer_gt_cell_type_main_starmap'].isin(keep_celltype),:]\n",
    "\n",
    "ad_embed_all_starmap_test = ad_embed_all_starmap[~ad_embed_all_starmap.obs['gt_cell_type_main'].isna()]"
   ]
  },
  {
   "cell_type": "code",
   "execution_count": null,
   "id": "d4c8dbef",
   "metadata": {},
   "outputs": [],
   "source": [
    "metrics.accuracy_score(ad_embed_all_starmap_test.obs['gt_cell_type_main'], \n",
    "                    ad_embed_all_starmap_test.obs['transfer_gt_cell_type_main_starmap'])"
   ]
  },
  {
   "cell_type": "code",
   "execution_count": null,
   "id": "b9f02346",
   "metadata": {},
   "outputs": [],
   "source": [
    "cross_tab = pd.crosstab(ad_embed_all_starmap_test.obs['gt_cell_type_main'], \n",
    "                        ad_embed_all_starmap_test.obs['transfer_gt_cell_type_main_starmap'])\n",
    "cross_tab_normalized = cross_tab.div(cross_tab.sum(axis=1), axis=0)\n",
    "cross_tab_normalized = cross_tab_normalized.div(cross_tab_normalized.sum(axis=0), axis=1)"
   ]
  },
  {
   "cell_type": "code",
   "execution_count": null,
   "id": "e9c91593",
   "metadata": {},
   "outputs": [],
   "source": [
    "plt.figure(figsize=(15,11.25))\n",
    "ax=sns.heatmap(cross_tab_normalized, cmap='Blues')\n",
    "ax.hlines(list(np.arange(29)), color='k',linewidth=0.1,*ax.get_xlim())\n",
    "ax.vlines(list(np.arange(29)), color='k',linewidth=0.1,*ax.get_ylim())\n",
    "plt.title(\"Normalized Correspondence of Two Categories\")\n",
    "# plt.savefig('figures/starmap_celltype.pdf',dpi=300, transparent=True)\n",
    "plt.show()\n"
   ]
  },
  {
   "cell_type": "markdown",
   "id": "41b115cb",
   "metadata": {},
   "source": [
    "# tissue-region annotation of hold-out atlas 1 data"
   ]
  },
  {
   "cell_type": "code",
   "execution_count": null,
   "id": "d49bdc47",
   "metadata": {},
   "outputs": [],
   "source": [
    "ad_embed_all=sc.read_h5ad(f\"source_data/atlas/transfer_tissueregion_starmap.h5ad\")\n",
    "ad_embed_all_starmap = ad_embed_all[ad_embed_all.obs['name']=='starmap',:]\n",
    "\n",
    "sc.pp.neighbors(ad_embed_all_starmap,use_rep='X')\n",
    "sc.tl.umap(ad_embed_all_starmap)"
   ]
  },
  {
   "cell_type": "code",
   "execution_count": null,
   "id": "c841bee5",
   "metadata": {},
   "outputs": [],
   "source": [
    "color_code=sns.color_palette('Paired',17)\n",
    "dic_color={}\n",
    "for ind,i in enumerate(ad_embed_all_starmap.obs['gt_tissue_region_main'].value_counts().keys()):\n",
    "    dic_color[i]=color_code[ind]\n"
   ]
  },
  {
   "cell_type": "code",
   "execution_count": null,
   "id": "c292cad8",
   "metadata": {},
   "outputs": [],
   "source": [
    "fig,ax=plt.subplots(figsize=(7,7))\n",
    "sc.pl.umap(ad_embed_all_starmap,color='gt_tissue_region_main',\n",
    "           palette=dic_color,ax=ax)\n"
   ]
  },
  {
   "cell_type": "code",
   "execution_count": null,
   "id": "e9474af0",
   "metadata": {},
   "outputs": [],
   "source": [
    "fig,ax=plt.subplots(figsize=(7,7))\n",
    "sc.pl.umap(ad_embed_all_starmap,color='transfer_gt_tissue_region_main_starmap',\n",
    "           palette=dic_color,ax=ax)\n"
   ]
  },
  {
   "cell_type": "code",
   "execution_count": null,
   "id": "dbfe725d",
   "metadata": {},
   "outputs": [],
   "source": [
    "sub_entm=ad_embed_all_starmap[ad_embed_all_starmap.obs['transfer_gt_tissue_region_main_starmap']=='CTX_1']\n",
    "\n",
    "sc.tl.leiden(sub_entm,resolution=0.05)\n",
    "\n",
    "ad_embed_all_starmap.obs['transfer_gt_tissue_region_main_starmap_correct']=ad_embed_all_starmap.obs['transfer_gt_tissue_region_main_starmap']\n",
    "ad_embed_all_starmap.obs['transfer_gt_tissue_region_main_starmap_correct'] = ad_embed_all_starmap.obs['transfer_gt_tissue_region_main_starmap_correct'].astype('str')\n",
    "ad_embed_all_starmap.obs.loc[sub_entm[sub_entm.obs['leiden']=='2'].obs.index,'transfer_gt_tissue_region_main_starmap_correct']='ENTm'"
   ]
  },
  {
   "cell_type": "code",
   "execution_count": null,
   "id": "bc492adb",
   "metadata": {
    "scrolled": false
   },
   "outputs": [],
   "source": [
    "fig,ax=plt.subplots(figsize=(7,7))\n",
    "sc.pl.umap(ad_embed_all_starmap,color='transfer_gt_tissue_region_main_starmap_correct',\n",
    "           palette=dic_color,ax=ax)\n"
   ]
  },
  {
   "cell_type": "code",
   "execution_count": null,
   "id": "52c08ef9",
   "metadata": {},
   "outputs": [],
   "source": [
    "metrics.accuracy_score(ad_embed_all_starmap.obs['gt_tissue_region_main'], \n",
    "                    ad_embed_all_starmap.obs['transfer_gt_tissue_region_main_starmap_correct'])\n",
    "\n"
   ]
  },
  {
   "cell_type": "code",
   "execution_count": null,
   "id": "9a23c882",
   "metadata": {},
   "outputs": [],
   "source": [
    "cross_tab = pd.crosstab(ad_embed_all_starmap.obs['gt_tissue_region_main'], \n",
    "                        ad_embed_all_starmap.obs['transfer_gt_tissue_region_main_starmap_correct'])\n",
    "cross_tab_normalized = cross_tab.div(cross_tab.sum(axis=1), axis=0)\n",
    "cross_tab_normalized = cross_tab_normalized.div(cross_tab_normalized.sum(axis=0), axis=1)\n",
    "\n",
    "# Plot heatmap\n",
    "plt.figure(figsize=(12,9))\n",
    "ax=sns.heatmap(cross_tab_normalized, cmap='Blues')\n",
    "ax.hlines(list(np.arange(29)), color='k',linewidth=0.1,*ax.get_xlim())\n",
    "ax.vlines(list(np.arange(29)), color='k',linewidth=0.1,*ax.get_ylim())\n",
    "plt.title(\"Normalized Correspondence of Two Categories\")\n",
    "plt.show()\n"
   ]
  },
  {
   "cell_type": "code",
   "execution_count": null,
   "id": "a9efc4b8",
   "metadata": {},
   "outputs": [],
   "source": []
  }
 ],
 "metadata": {
  "kernelspec": {
   "display_name": "Python 3 (ipykernel)",
   "language": "python",
   "name": "python3"
  },
  "language_info": {
   "codemirror_mode": {
    "name": "ipython",
    "version": 3
   },
   "file_extension": ".py",
   "mimetype": "text/x-python",
   "name": "python",
   "nbconvert_exporter": "python",
   "pygments_lexer": "ipython3",
   "version": "3.7.13"
  }
 },
 "nbformat": 4,
 "nbformat_minor": 5
}
