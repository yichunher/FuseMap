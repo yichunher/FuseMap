{
 "cells": [
  {
   "cell_type": "code",
   "execution_count": null,
   "id": "d66306ec",
   "metadata": {},
   "outputs": [],
   "source": [
    "import scanpy as sc\n",
    "import pandas as pd\n",
    "import numpy as np\n",
    "import matplotlib.pyplot as plt\n",
    "import anndata as ad\n",
    "import scanpy.external as sce\n",
    "from sklearn import preprocessing\n",
    "import pickle5 as pickle\n",
    "from tqdm import tqdm\n",
    "from sklearn.neighbors import NearestNeighbors\n",
    "from sklearn import preprocessing\n",
    "import sklearn\n",
    "from sklearn.neighbors import KNeighborsClassifier\n",
    "\n",
    "from utils import *\n",
    "\n",
    "eps=1e-100"
   ]
  },
  {
   "cell_type": "code",
   "execution_count": null,
   "id": "9d6ad714",
   "metadata": {},
   "outputs": [],
   "source": [
    "X_input=[]\n",
    "data_pth=[]\n",
    "\n",
    "directory_path =  './source_data/raw_data/'\n",
    "filenames = sorted(os.listdir(directory_path))\n",
    "for starmap_tar in filenames:\n",
    "    data_pth.append(directory_path+starmap_tar)\n",
    "    test = sc.read_h5ad(directory_path+starmap_tar)\n",
    "    test.obs['name']=starmap_tar\n",
    "    X_input.append(test)\n"
   ]
  },
  {
   "cell_type": "code",
   "execution_count": null,
   "id": "ee395f65",
   "metadata": {
    "scrolled": true
   },
   "outputs": [],
   "source": [
    "ad_fit=sc.read_h5ad('source_data/transfer_tissueregion_ref.h5ad')"
   ]
  },
  {
   "cell_type": "code",
   "execution_count": null,
   "id": "f092c13e",
   "metadata": {},
   "outputs": [],
   "source": [
    "color_dic_main=pd.read_csv('source_data/color/tissue_domain/starmap_sub_old.csv',\n",
    "                           index_col=0)\n",
    "color_dic=dict(zip(color_dic_main['key'],color_dic_main['color']))"
   ]
  },
  {
   "cell_type": "code",
   "execution_count": null,
   "id": "b4439931",
   "metadata": {},
   "outputs": [],
   "source": [
    "test = ad_fit[ad_fit.obs['name']=='slideseq_OB.h5ad']\n",
    "\n",
    "label = test.obs['transfer_transfer_tissue_region_sub_refine_ref']\n",
    "location = np.array(test.obs[['x','y']])\n",
    "knn = KNeighborsClassifier(n_neighbors=10)\n",
    "knn.fit(location, label)\n",
    "predicted_labels = knn.predict(location)\n",
    "test.obs['transfer_transfer_tissue_region_sub_refine_ref_knn'] = predicted_labels\n",
    "\n",
    "\n",
    "plt.figure()\n",
    "plt.scatter(test.obs['x'],\n",
    "            test.obs['y'], s=3,\n",
    "            c=[color_dic[i] for i in test.obs['transfer_transfer_tissue_region_sub_refine_ref_knn']])\n",
    "plt.gca().invert_yaxis()\n",
    "plt.gca().invert_xaxis()\n",
    "plt.axis('off')\n"
   ]
  },
  {
   "cell_type": "code",
   "execution_count": null,
   "id": "9139a31b",
   "metadata": {},
   "outputs": [],
   "source": [
    "test = ad_fit[ad_fit.obs['name']=='stereoseq_OB.h5ad']\n",
    "\n",
    "\n",
    "label = test.obs['transfer_transfer_tissue_region_sub_refine_ref']\n",
    "location = np.array(test.obs[['x','y']])\n",
    "knn = KNeighborsClassifier(n_neighbors=10)\n",
    "knn.fit(location, label)\n",
    "predicted_labels = knn.predict(location)\n",
    "test.obs['transfer_transfer_tissue_region_sub_refine_ref_knn'] = predicted_labels\n",
    "\n",
    "plt.figure()\n",
    "plt.scatter(test.obs['x'],\n",
    "            test.obs['y'], s=3,\n",
    "            c=[color_dic[i] for i in test.obs['transfer_transfer_tissue_region_sub_refine_ref_knn']])\n",
    "plt.axis('off')\n"
   ]
  }
 ],
 "metadata": {
  "kernelspec": {
   "display_name": "Python 3 (ipykernel)",
   "language": "python",
   "name": "python3"
  },
  "language_info": {
   "codemirror_mode": {
    "name": "ipython",
    "version": 3
   },
   "file_extension": ".py",
   "mimetype": "text/x-python",
   "name": "python",
   "nbconvert_exporter": "python",
   "pygments_lexer": "ipython3",
   "version": "3.7.13"
  }
 },
 "nbformat": 4,
 "nbformat_minor": 5
}
