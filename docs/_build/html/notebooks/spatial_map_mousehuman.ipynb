{
 "cells": [
  {
   "cell_type": "markdown",
   "id": "bc3167c2",
   "metadata": {},
   "source": [
    "# Map cells and tissues across human/mouse or organs"
   ]
  },
  {
   "cell_type": "markdown",
   "id": "ccf7aba7",
   "metadata": {},
   "source": []
  }
 ],
 "metadata": {
  "kernelspec": {
   "display_name": "Python 3 (ipykernel)",
   "language": "python",
   "name": "python3"
  },
  "language_info": {
   "codemirror_mode": {
    "name": "ipython",
    "version": 3
   },
   "file_extension": ".py",
   "mimetype": "text/x-python",
   "name": "python",
   "nbconvert_exporter": "python",
   "pygments_lexer": "ipython3",
   "version": "3.7.13"
  }
 },
 "nbformat": 4,
 "nbformat_minor": 5
}
