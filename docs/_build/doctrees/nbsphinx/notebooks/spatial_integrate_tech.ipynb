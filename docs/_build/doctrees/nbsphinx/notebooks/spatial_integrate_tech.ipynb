{
 "cells": [
  {
   "cell_type": "markdown",
   "id": "02482ead",
   "metadata": {},
   "source": [
    "# Integrate cells and tissues in adult mouse brain across atlases"
   ]
  },
  {
   "cell_type": "markdown",
   "id": "b539b0a0",
   "metadata": {},
   "source": [
    "Use this tutorial to familiarize users with FuseMap's basic functionality."
   ]
  },
  {
   "cell_type": "markdown",
   "id": "0f22aa4d",
   "metadata": {},
   "source": [
    "## 1. Prepare software and data"
   ]
  },
  {
   "cell_type": "markdown",
   "id": "2934b09a",
   "metadata": {},
   "source": [
    "We use spatial mouse brain atlases from xxx\n",
    "\n",
    "download the example sections here: xx"
   ]
  },
  {
   "cell_type": "markdown",
   "id": "dd4df831",
   "metadata": {},
   "source": [
    "## 2. Read data"
   ]
  },
  {
   "cell_type": "code",
   "execution_count": null,
   "id": "fe6ada97",
   "metadata": {
    "vscode": {
     "languageId": "plaintext"
    }
   },
   "outputs": [],
   "source": []
  },
  {
   "cell_type": "markdown",
   "id": "500002e2",
   "metadata": {},
   "source": [
    "## 3. Spatial integrate"
   ]
  },
  {
   "cell_type": "code",
   "execution_count": null,
   "id": "8a8e19df",
   "metadata": {
    "vscode": {
     "languageId": "plaintext"
    }
   },
   "outputs": [],
   "source": []
  }
 ],
 "metadata": {
  "kernelspec": {
   "display_name": "Python 3 (ipykernel)",
   "language": "python",
   "name": "python3"
  },
  "language_info": {
   "codemirror_mode": {
    "name": "ipython",
    "version": 3
   },
   "file_extension": ".py",
   "mimetype": "text/x-python",
   "name": "python",
   "nbconvert_exporter": "python",
   "pygments_lexer": "ipython3",
   "version": "3.7.13"
  }
 },
 "nbformat": 4,
 "nbformat_minor": 5
}
